{
 "cells": [
  {
   "cell_type": "code",
   "execution_count": 1,
   "metadata": {},
   "outputs": [
    {
     "name": "stderr",
     "output_type": "stream",
     "text": [
      "D:\\Anaconda2\\lib\\site-packages\\sklearn\\cross_validation.py:41: DeprecationWarning: This module was deprecated in version 0.18 in favor of the model_selection module into which all the refactored classes and functions are moved. Also note that the interface of the new CV iterators are different from that of this module. This module will be removed in 0.20.\n",
      "  \"This module will be removed in 0.20.\", DeprecationWarning)\n"
     ]
    }
   ],
   "source": [
    "import numpy as np\n",
    "import pandas as pd\n",
    "from sklearn.cross_validation import train_test_split\n",
    "from sklearn import svm\n",
    "from sklearn.feature_extraction.text import TfidfVectorizer\n",
    "\n",
    "import unicodedata as ud\n",
    "from sklearn.metrics import precision_recall_fscore_support as prfs\n",
    "import csv\n",
    "from itertools import izip\n",
    "import HTMLParser\n",
    "from sklearn.metrics import classification_report\n",
    "from sklearn.cross_validation import cross_val_score\n",
    "from sklearn.cross_validation import cross_val_predict\n",
    "from sklearn.metrics import average_precision_score\n",
    "from sklearn.neighbors import KNeighborsClassifier\n",
    "from sklearn.naive_bayes import MultinomialNB\n",
    "from sklearn.metrics import precision_recall_fscore_support\n",
    "from sklearn.svm import SVC\n",
    "from sklearn import linear_model\n",
    "from sklearn.ensemble import AdaBoostClassifier\n",
    "from sklearn.tree import DecisionTreeClassifier\n",
    "from sklearn.ensemble import RandomForestClassifier\n",
    "from sklearn.ensemble import GradientBoostingClassifier\n",
    "from sklearn.linear_model import LogisticRegression\n",
    "\n",
    "import re\n",
    "from nltk.corpus import stopwords\n",
    "from nltk.tokenize import word_tokenize\n",
    "from nltk.stem.porter import PorterStemmer as porterStemmer\n",
    "\n"
   ]
  },
  {
   "cell_type": "code",
   "execution_count": 2,
   "metadata": {},
   "outputs": [
    {
     "data": {
      "text/html": [
       "<div>\n",
       "<style>\n",
       "    .dataframe thead tr:only-child th {\n",
       "        text-align: right;\n",
       "    }\n",
       "\n",
       "    .dataframe thead th {\n",
       "        text-align: left;\n",
       "    }\n",
       "\n",
       "    .dataframe tbody tr th {\n",
       "        vertical-align: top;\n",
       "    }\n",
       "</style>\n",
       "<table border=\"1\" class=\"dataframe\">\n",
       "  <thead>\n",
       "    <tr style=\"text-align: right;\">\n",
       "      <th></th>\n",
       "      <th>date</th>\n",
       "      <th>time</th>\n",
       "      <th>Anootated tweet</th>\n",
       "      <th>Class</th>\n",
       "      <th>Unnamed: 4</th>\n",
       "    </tr>\n",
       "  </thead>\n",
       "  <tbody>\n",
       "    <tr>\n",
       "      <th>0</th>\n",
       "      <td>NaN</td>\n",
       "      <td>NaN</td>\n",
       "      <td>NaN</td>\n",
       "      <td>NaN</td>\n",
       "      <td>NaN</td>\n",
       "    </tr>\n",
       "    <tr>\n",
       "      <th>1</th>\n",
       "      <td>2012-10-16 00:00:00</td>\n",
       "      <td>10:28:53-05:00</td>\n",
       "      <td>Kirkpatrick, who wore a baseball cap embroider...</td>\n",
       "      <td>0.0</td>\n",
       "      <td>NaN</td>\n",
       "    </tr>\n",
       "    <tr>\n",
       "      <th>2</th>\n",
       "      <td>2016-12-10 00:00:00</td>\n",
       "      <td>10:09:00-05:00</td>\n",
       "      <td>Question: If &lt;e&gt;Romney&lt;/e&gt; and &lt;e&gt;Obama&lt;/e&gt; ha...</td>\n",
       "      <td>2.0</td>\n",
       "      <td>NaN</td>\n",
       "    </tr>\n",
       "    <tr>\n",
       "      <th>3</th>\n",
       "      <td>2012-10-16 00:00:00</td>\n",
       "      <td>10:04:30-05:00</td>\n",
       "      <td>#&lt;e&gt;obama&lt;/e&gt; debates that Cracker Ass Cracker...</td>\n",
       "      <td>1.0</td>\n",
       "      <td>NaN</td>\n",
       "    </tr>\n",
       "    <tr>\n",
       "      <th>4</th>\n",
       "      <td>2012-10-16 00:00:00</td>\n",
       "      <td>10:00:36-05:00</td>\n",
       "      <td>RT @davewiner Slate: Blame &lt;e&gt;Obama&lt;/e&gt; for fo...</td>\n",
       "      <td>2.0</td>\n",
       "      <td>NaN</td>\n",
       "    </tr>\n",
       "  </tbody>\n",
       "</table>\n",
       "</div>"
      ],
      "text/plain": [
       "                  date            time  \\\n",
       "0                  NaN             NaN   \n",
       "1  2012-10-16 00:00:00  10:28:53-05:00   \n",
       "2  2016-12-10 00:00:00  10:09:00-05:00   \n",
       "3  2012-10-16 00:00:00  10:04:30-05:00   \n",
       "4  2012-10-16 00:00:00  10:00:36-05:00   \n",
       "\n",
       "                                     Anootated tweet  Class  Unnamed: 4  \n",
       "0                                                NaN    NaN         NaN  \n",
       "1  Kirkpatrick, who wore a baseball cap embroider...    0.0         NaN  \n",
       "2  Question: If <e>Romney</e> and <e>Obama</e> ha...    2.0         NaN  \n",
       "3  #<e>obama</e> debates that Cracker Ass Cracker...    1.0         NaN  \n",
       "4  RT @davewiner Slate: Blame <e>Obama</e> for fo...    2.0         NaN  "
      ]
     },
     "execution_count": 2,
     "metadata": {},
     "output_type": "execute_result"
    }
   ],
   "source": [
    "data = pd.read_excel(\"C:\\\\Users\\\\swapnil sagar\\\\Documents\\\\UIC\\\\Data mining\\\\project 2\\\\obamaTweetsFiltered.xlsx\");\n",
    "data.head(5)"
   ]
  },
  {
   "cell_type": "code",
   "execution_count": 3,
   "metadata": {},
   "outputs": [
    {
     "data": {
      "text/plain": [
       "5626"
      ]
     },
     "execution_count": 3,
     "metadata": {},
     "output_type": "execute_result"
    }
   ],
   "source": [
    "#delete classes with label = 2\n",
    "\n",
    "data = data[data.Class != 2]\n",
    "\n",
    "len(data)"
   ]
  },
  {
   "cell_type": "code",
   "execution_count": 35,
   "metadata": {},
   "outputs": [],
   "source": [
    "annotatedTweet = data['Anootated tweet']\n",
    "actualClass = data['Class']\n",
    "lengthObama = len(data);\n",
    "\n",
    "annotatedTweet = annotatedTweet.drop(0)\n",
    "actualClass = actualClass.drop(0)\n",
    "\n",
    "annotatedTweetList = annotatedTweet.tolist();\n",
    "actualClassList = actualClass.tolist();\n"
   ]
  },
  {
   "cell_type": "markdown",
   "metadata": {},
   "source": [
    "# For test data"
   ]
  },
  {
   "cell_type": "markdown",
   "metadata": {},
   "source": [
    "data = pd.read_excel(\"C:\\\\Users\\\\swapnil sagar\\\\Documents\\\\UIC\\\\Data mining\\\\project 2\\\\testData.xlsx\");\n",
    "annotatedTweet = data['Anootated tweet']\n",
    "annotatedTweet = annotatedTweet.drop(0)\n",
    "annotatedTweetList = annotatedTweet.tolist();"
   ]
  },
  {
   "cell_type": "code",
   "execution_count": 9,
   "metadata": {
    "collapsed": true
   },
   "outputs": [],
   "source": [
    "count = 0;\n",
    "\n",
    "finalFilteredTweet = []\n",
    "\n",
    "def removeStopWords(tweet):\n",
    "    filtered_tweet = [];\n",
    "    \n",
    "    stop_words = set(stopwords.words('english'));\n",
    "    word_tokens = word_tokenize(tweet);\n",
    "    \n",
    "    for w in word_tokens:\n",
    "        if w not in stop_words:\n",
    "            filtered_tweet.append(w);\n",
    "    \n",
    "    eachTweet = \" \".join(filtered_tweet)  \n",
    "    return eachTweet\n",
    "    \n",
    "    \n",
    "def preProcessTweets(annotatedTweet):\n",
    "        \n",
    "        #remove links\n",
    "        processedTweet = re.sub(r'\\w+:\\/{2}[\\d\\w-]+(\\.[\\d\\w-]+)*(?:(?:\\/[^\\s/]*))*', '', annotatedTweet);\n",
    "        #remove references with @<word>\n",
    "        processedTweet = re.sub(r'(\\s)@\\w+', r'', processedTweet)\n",
    "        processedTweet = re.sub(r'@\\w+', r'', processedTweet)\n",
    "        \n",
    "        # remove HTML tags from tweet\n",
    "        processedTweet = re.sub('<[^<]+?>', '', processedTweet)\n",
    "        \n",
    "        #remove exclamation marks - hashtags should be removed?\n",
    "        processedTweet = re.sub(r'[<>!#@$:,%\\?-]+', r' ', processedTweet)\n",
    "        processedTweet = re.sub(r'[.]+', r'', processedTweet)\n",
    "        \n",
    "        # remove extra white spaces\n",
    "        processedTweet = re.sub(r'\\s+', r' ', processedTweet)\n",
    "        \n",
    "        #remove \"\" \n",
    "        processedTweet = processedTweet.replace('\"', '');\n",
    "        \n",
    "        processedTweet = ''.join([i if ord(i) < 128 else ' ' for i in processedTweet])\n",
    "\n",
    "        #stemming\n",
    "        stemmer = porterStemmer()\n",
    "        stemmedTweet = [stemmer.stem(word) for word in processedTweet.split(\" \")]\n",
    "        stemmedTweet = \" \".join(stemmedTweet)\n",
    "        processedTweet = str(stemmedTweet);\n",
    "        \n",
    "        processedTweet = processedTweet.replace(\"'\", \"\");\n",
    "\n",
    "        #remove numbers from data\n",
    "        #join\n",
    "        #processedTweet = \" \".join(re.findall('[A-Z][^A-Z]*', processedTweet));\n",
    "\n",
    "        #processedTweet = removeStopWords(processedTweet); --- Remove stop words in the end\n",
    "        \n",
    "        return processedTweet;\n",
    "\n",
    "    \n",
    "for every_tweet in annotatedTweetList:\n",
    "    \n",
    "    count = count +1     \n",
    "    tweet = preProcessTweets(every_tweet).encode('ascii', 'ignore').strip();\n",
    "    #print type(tweet)\n",
    "\n",
    "    finalFilteredTweet.append(tweet);        "
   ]
  },
  {
   "cell_type": "code",
   "execution_count": 34,
   "metadata": {},
   "outputs": [
    {
     "data": {
      "text/plain": [
       "5625"
      ]
     },
     "execution_count": 34,
     "metadata": {},
     "output_type": "execute_result"
    }
   ],
   "source": [
    "#len(actualClassList)\n",
    "count"
   ]
  },
  {
   "cell_type": "code",
   "execution_count": 13,
   "metadata": {},
   "outputs": [
    {
     "data": {
      "text/plain": [
       "5625"
      ]
     },
     "execution_count": 13,
     "metadata": {},
     "output_type": "execute_result"
    }
   ],
   "source": [
    "len(finalFilteredTweet)"
   ]
  },
  {
   "cell_type": "code",
   "execution_count": 10,
   "metadata": {
    "scrolled": false
   },
   "outputs": [
    {
     "data": {
      "text/plain": [
       "['kirkpatrick who wore a basebal cap embroid with barack obama signatur and had the hangdog look of jason segel courier journal',\n",
       " 'obama debat that cracker ass cracker tonight I will be tune in teamobama',\n",
       " 'your miss the point Im afraid you do not understand the bigger pictur if you dont care if obama re elect']"
      ]
     },
     "execution_count": 10,
     "metadata": {},
     "output_type": "execute_result"
    }
   ],
   "source": [
    "finalFilteredTweet[:3]"
   ]
  },
  {
   "cell_type": "code",
   "execution_count": 14,
   "metadata": {
    "collapsed": true
   },
   "outputs": [],
   "source": [
    "trainData, testTrainData , y_train, y_test = train_test_split(finalFilteredTweet, actualClassList, test_size = 0.15, random_state = 40)"
   ]
  },
  {
   "cell_type": "code",
   "execution_count": 15,
   "metadata": {
    "collapsed": true
   },
   "outputs": [],
   "source": [
    "vectorizer = TfidfVectorizer(min_df=0.00125,\n",
    "                             max_df = 0.70,\n",
    "                             sublinear_tf=True,\n",
    "                             use_idf=True,\n",
    "                            stop_words=u'english',\n",
    "                            analyzer='word',\n",
    "                            ngram_range=(1,6),lowercase=True)"
   ]
  },
  {
   "cell_type": "code",
   "execution_count": 16,
   "metadata": {
    "collapsed": true
   },
   "outputs": [],
   "source": [
    "train_vectors = vectorizer.fit_transform(trainData);\n",
    "test_vectors = vectorizer.transform(testTrainData);\n",
    "total_cleanTweetVectors = vectorizer.fit_transform(finalFilteredTweet);\n",
    "\n",
    "\n",
    "knn = KNeighborsClassifier()"
   ]
  },
  {
   "cell_type": "code",
   "execution_count": 37,
   "metadata": {},
   "outputs": [
    {
     "data": {
      "text/plain": [
       "['just in case you miss it presid obama close statement via',\n",
       " 'the coup obama est la marionnett de la class dominant via',\n",
       " 'I dont even care about all of thi forrealbut obama won thi one lolkilt that perfect hair mitt lol',\n",
       " 'ye obama got to go',\n",
       " 'when obama cant answer a question he ha the moder save him by chang the subject',\n",
       " 'down goe romney down goe romney obama clear winner nbcpolit',\n",
       " 'we need blue no matter what intro op campaign strategi in obama HQ philli awesom bkb',\n",
       " 'MT I would ask about global warm whi obama is in bed with monstato /a while hi wife promot healthi eat debateprep',\n",
       " 'RT barackobama just 21 day until elect day RT if you re readi to cheer on presid barackobama in tonight s debat teambarackobamabiden',\n",
       " 'celeb hit swing state airwav for obama (blog)',\n",
       " 'foxnewsradio I hear obama is work on how he can attack romney on hi tax return again',\n",
       " 'fuck barack obama',\n",
       " 'you are wright american vote for obama and biden who spend more time on vacat at your expens also hi wife never use camp david',\n",
       " 'obama came back readi tonight winner',\n",
       " 'US home construct surg more evid of obama recoveri',\n",
       " 'If convict felon could vote it would be ah landslid for obama truuustori',\n",
       " 'obama talk about math so whi doesnt he talk about the math of 5 trillion deficit the math of 23 million unemploy the math of economi',\n",
       " 'obama come out swing via',\n",
       " 'obama isnt work and american need to start work',\n",
       " 'thi debat wa much better obama came out swing as expect He set the record straight',\n",
       " 'I mean I support gay marriag but it not the onli issu and obama fix none of them',\n",
       " 'churchil and obama',\n",
       " 'obama lower my IQ tonight',\n",
       " 'dopo ieri sera barack obama dovrebb aver la strada spianata per il secondo mandato',\n",
       " 'romney won thi debat',\n",
       " 'wa at hospit today wait room cnn wa spew that horribl RW obama hate ad ppl were rivet lie on steroid',\n",
       " 'romneydebatetip If obama bring up GM remind him how much money they owe us',\n",
       " 'the fact that thi debat will be recap by libya is not great for obama',\n",
       " 'must read former aid stun that obama is in politics; he realli doesnt like people p2 tcot romney',\n",
       " 'good obama is an unmitig disast by ani meqsur and fyi union have been do the same for decad',\n",
       " 'haha I might not agre with joe biden on everyth but he wa amaz also made up for obama weak debat D',\n",
       " 'obama manag to get a lot done imagin what we could get done for the peopl w/o congress full of petti partisan',\n",
       " 'Me vote for obama would be like me run my head into a wall over and over and over and over',\n",
       " 'news to me honest you may be right but better than obama is not on the ballot',\n",
       " 'obama creat no jobshe had almost 4yr to do someth & he hasntand the 1st 2 yr he had a democrat congress',\n",
       " 'If obama doesnt win im movin to africa teamobama',\n",
       " 'obama is the reason whi half of the peopl around me are even talk about polit nowid vote 4 him for that alon interest',\n",
       " 'everi american that I follow is obvious impress that obama is presid ___',\n",
       " 'joke fidel castro declar that a robot would do a better job as presid than barack obama after hear thi',\n",
       " 'I realli dont care what peopl think i DO not support obama im sure he a nice guy but polit he done horribl for my countri',\n",
       " 'okay phew my dad pick up so I got to do my obama slow chant after all debat',\n",
       " 'nbcpolit as a femal colleg student about to graduat obama made better point that relat to my futur in thi countri',\n",
       " 'axelrod refus to say whether obama met with nat   l secur team befor head to la vega',\n",
       " 'accord to poll of undecid voter barack obama narrowli won last night presidenti debat A narrow win is still a win',\n",
       " 'My take on obama tonight there is noth wors than aggress stupid von goeth',\n",
       " 'fun fact magic johnson is older than barack obama',\n",
       " 'weird obama came across as bitter and clingi jerk',\n",
       " 'msm wont conced obama victori debat',\n",
       " 'obama famili bust in shariah scheme',\n",
       " 'barack obama wrote these never befor seen letter himself push radic for polit posit in chicago',\n",
       " 'obama &amp; biden keep say wer more respect in the world but we cant get N korea to the tabl come on',\n",
       " 'obama arlen specter wa alway A fighter via',\n",
       " 'ohhhhhhh obama is too slick',\n",
       " 'obama interrupt when he doesnt know how to answer or no way to lie out of an answer or blame someon els for hi mistak',\n",
       " 'jason thompson send obama back to chicago or kenya via',\n",
       " 'obama say he want to cut the corpor tax rate wasnt he presid for the last 4 year what wa the holdup',\n",
       " 'romney 49 to obama 47 rasmussen daili track poll for tuesday via',\n",
       " 'campaign surrog say obama ha crucial task in second debat news',\n",
       " 'obama stop post on my twitter account you are spam I am vote for romney',\n",
       " 'obama wa onli wait for more flexibl to take some blame after the elect',\n",
       " 'follow We love obama retweet',\n",
       " 'jeffrey anderson | the threat of obama s second term tcot palin',\n",
       " 'obama brought that fire to the big appl tonight debat',\n",
       " 'of cours the type of action also matter obama is more power then bieber sinc hi action have larger impact',\n",
       " 'In the 1st debat it seem obama wa aloof and disconnect In thi one angri probabl more un presidenti n thi 1',\n",
       " 'debat obama just cant seem to make coher statementsgener',\n",
       " 'I hope tonight debat isnt so dull that I fall asleep befor obama doe',\n",
       " 'way to take one for the team hillari she is go to be a great 45th presid obama',\n",
       " 'DF im stay up thi late for obama anit funna cancel school tomorrow',\n",
       " 'No I dont think My pre obama have A big ego',\n",
       " 'I dont think obama should be promot the support of jay Z itll just make the conspiraci theorist go wild nutjob',\n",
       " 'romney is pro gun so he win the duel',\n",
       " 'debat romney said obama is great at speech',\n",
       " 'morgan freeman is do a campaign ad for obama you may as well turn in your place on the ballot romney',\n",
       " 'hashtagyourdreamschool vote for obama',\n",
       " '4 year ago today obama wa +68 and 8 year ago today bush wa +34',\n",
       " 'with ga price hurt all american obama continu to block domest energi product',\n",
       " 'I 3 obama notgivinashit whoisobama whoisromnaygener',\n",
       " 'teambarack obama back fire Up readi to Go',\n",
       " 'obama will over compens and look like an ass He cant be himself so he ha to fake it and it will be obviou tcot',\n",
       " 'miner fight back against obama TV Ad absolut lie tell obama to stop the absolut lie watch and RT plz +ti',\n",
       " 'obama the reason thi countri is a shit hole give govern money to bum cool stupid socialist romney',\n",
       " 'obama need an enema',\n",
       " 'presid obama ha declar the new orlean a nation disast',\n",
       " 'opinion obama bounc back domin debat',\n",
       " 'minnesota 2012 presid obama 47 romney 43 (nmb research (R american futur fund) 10/7 10/8)',\n",
       " 'agre I think obama will do better thi time',\n",
       " 'kobe bryant obama of the nba nba',\n",
       " 'morgan freeman narrat ad for obama via',\n",
       " 'anoth obama execut order allow seizur of american  bank account',\n",
       " 'barack down wit the tit obama2012',\n",
       " 'scath new tea parti Ad featur   the    obama phone ladi    via',\n",
       " 'debat pressur obama prepar new charact attack so lame so pathetichorr toxic pain polici result must be avoidedbi ozbama',\n",
       " 'mitt romney lash presid obama in debat',\n",
       " 'got pic OF bro lung that breath IN coal dust for U TO see die OF cancer ohio billboard say obama is anti coal',\n",
       " 'thi is fascism all the way and whi we must reject obama all the way',\n",
       " '50 say obama get A tko On romney tonight knock him out with that chicago bu driver uppercut you goin to jail now',\n",
       " 'ye obama ha snub and kill our alli and he bow down and support our eneni',\n",
       " 'I voic my concern if obama is re elect',\n",
       " 'someon had a sticker on they car that said defeat obama everybodi should get out they car to whoop they ass',\n",
       " 'lmfao RT I wouldnt even vote for the white obama lmfao',\n",
       " 'gop senat candidate son we have the opportun to send obama back to kenya smdh',\n",
       " 'obama come back to chicago to vote earli chicago tribun chicago news',\n",
       " 'that would be obama plan tax payer paid transport into the US',\n",
       " 'obamaspromis remind me of the high school kid run for class presid who will put a soda machin in the cafeteria',\n",
       " 'A vote for obama is an invest in a strong futur which is whi the philadelphia inquir endors hi reelect',\n",
       " 'obama said one person he realli admir in hi life is demi lovato and he consid himself a lovat as well',\n",
       " 'debat is over and a win for P obama in my view but 530 am come earli good night everyon',\n",
       " 'im wait for obama to uppercut romney',\n",
       " 'obama keep it realther are some job that cant come back',\n",
       " 'obama destroy himself on libya question by avoid even a mention of the video cover UP day 36',\n",
       " 'obama polici is taxmagedon ie is intent and insist inact the respons will be outrag 500b',\n",
       " 'obama definit drop the mic sever time dure thi debat He came to win and that exactli what he accomplish tonight',\n",
       " 'and by peopl I mean you obama',\n",
       " 'RT report Is hillari to blame for benghazi  obama silenc kept walk',\n",
       " 'I think obama won thi debat look like we need a tie breaker now',\n",
       " 'ye obama won ye',\n",
       " 'you can never argu logic with black peopl they onli see obama black skin &amp; defend hi incompet alway',\n",
       " 'from shovel readi to high wage high skill you couldnt do shovel readi obama how are you gonna go high wage high skill lnyhbt debat',\n",
       " 'obama romney lie spoken in an articul manner are still lie thi is a obama way He stood on the debat stage and liedfir him',\n",
       " 'hillari clinton attempt to shield obama from benghazi scandal',\n",
       " 'I will soon just sat down for the 2016 obama america movi',\n",
       " 'obama believ in risk taker be reward except when the reward exce govern mandat level debat',\n",
       " 'hope someon slip obama a few bump of meth befor tomorrow debat',\n",
       " 'just becaus I dont vote for obama doesnt make me racist the fact that you vote for him becaus he black kinda doe',\n",
       " 'I would just like to say that im proud everi singl day that barack obama is presid of these unit state of america everi day',\n",
       " 'wanna hear a joke barack obama Or polit in gener',\n",
       " 'obama obvious won that debat good night world and stay bless',\n",
       " 'obama sign everywher lovethelookofthat',\n",
       " 'morgan freeman narrat a barrack obama commerci He win by default',\n",
       " 'In second debat obama face challeng on key issu reuter technew',\n",
       " 'thi is sick RT softwar ceo to employe if obama win dont be surpris if I lay you off',\n",
       " 'just heard honey boo boo support obama thankgood',\n",
       " 'My predict obama chicago deep dish //romney sicilian w chees | back off presidenti debat promot',\n",
       " 'obama   s wast On wind & solar power',\n",
       " 'conserv say presid obama blew up the budget No',\n",
       " 'fine sinc obama ha much to hold head high for He repres us american who care re futur of usa',\n",
       " 'team obamagener',\n",
       " 'today in 2008 barack obama misl in debat on born aliv infant protect act abort prolif',\n",
       " 'If you vote obama in 08 it understand and ok If you dont support him in 2012 that understand and ok too',\n",
       " 'obama be a real nigga',\n",
       " 'the obama doctrin No leadership     just bow',\n",
       " 'I cant believ what laura moon said obama need to go back to the countri he came from where chicago lol',\n",
       " 'america need real leadership not lie and obstruct vote for presid obama vote 4 more for 44',\n",
       " 'If obama doesnt win 2nite as convincingli as he lost the 1st debat he might as well hand romney the key to the white hous',\n",
       " 'great debat the truth prevail obama/biden 4 more year',\n",
       " 'blah blah blahhh obama said he wa go to fix it hi first term just anoth broken promis',\n",
       " 'insurancepol Do you approv of obama job perform',\n",
       " 'obama did a lot of smirk and lie',\n",
       " 'tonight obama came out as someon that im proud to call my presid regardless if I disagre on a few of hi standpoints/view on thing',\n",
       " 'Im sorri but romney wouldnt be a good presid He chang hi polit view everi week the shifti mofo obama2012',\n",
       " 'when obama is in new york mayb he will drop by faux news and slap the hell out of you for edit video',\n",
       " 'obama is too fine *',\n",
       " 'At what point did you stop believ that the buck stop at the oval office let obama feel hi failur',\n",
       " 'exclus obama white half speak',\n",
       " 'We have the stain blue dress obama wore when beg bill clinton to let hillari take blame for benghazi',\n",
       " 'how can obama fix da stuff bush fuck up for 8 year in 4 year',\n",
       " 'benghazi episod 9are there ani door left in the WH or have they all been kick in by obama WH look for carpent',\n",
       " 'what war the one on women I thought obama end the war on terror wasnt fort hood shoot just workplac violenc',\n",
       " 'okay here it is obama vote in person on elect day at the shoesmith school in hyde park',\n",
       " 'paul ryan debt is up 45 sinc obama becam presid',\n",
       " 'romney said obama is respons 4 the secur failur that kill our pple in libya obama said noth theblaze2012 debat',\n",
       " 'still dont complet know who im vote forbut I got a feel obama is go to win',\n",
       " 'Oh goodi anoth moder in obama pocket',\n",
       " 'ha anyon seen 2016 obama america veri interest fact about obama past',\n",
       " 'bush administr + suspici person = kidnap &amp; tortur chamber obama administr + suspici person = murder drone chomski',\n",
       " 'No one is vote for obama becaus he is black I swear to god yall are so stupid',\n",
       " 'they are so screw they dont know what they said to who when and where thi is whi obama will lose bigtim',\n",
       " 'I wish we would stop photoshop obama pictur to make him appear thug out smh sigh sometim I feel there is no hope',\n",
       " 'chucktodd ha refer to rasmussenpol are slop and I agre howev the trend ha move in obama direct',\n",
       " 'romney calm assert presidenti obama angri aggress non presidenti debat',\n",
       " 'pleas ask the candid to clarifi how much of the 16 trillion debt can be attribut to the obama administration polici',\n",
       " 'obama take way to much credit for kill osama bin laden im pretti sure that wa the navi seal',\n",
       " 'repost some fun fact from someth I read today the mess and how obama inherit it     read it slowli and',\n",
       " 'obama did a great job',\n",
       " 'obama ad should end with im barack obama and hillari clinton approv thi messag',\n",
       " 'ignor peopl who have biast view toward obama pleaseconsiderbothsid ihav',\n",
       " 'obama won the debat romney wa rattl earli great job Mr presid great job candi ali vs frazier',\n",
       " 'presid obama believ nicki minaj and mariah carey will sort It out',\n",
       " 'here are the chart that should get obama reelect via',\n",
       " 'superbowl pick obama will win',\n",
       " 'obama energi polici are better than ever via',\n",
       " 'Or obama or mit or big big bird or the economi or food stamp or the pell grant or job or educ noth',\n",
       " 'what you were describ tonight is obama audac of hope vs romney audac of greed',\n",
       " 'buddi im vote for neither man I think that they are both socialist that have the same view romney just a busi man',\n",
       " 'lynnett macnair like obama sign execut order to protect troop from for profit colleg decept practic',\n",
       " 'aggress is not in obama charact so it seem misplac butthatsjustmethough',\n",
       " 'philli enquir obama will do a better job the gop would prefer the nation repeat histori rather than rememb it',\n",
       " 'appar obama is not the presid He seem to never make ani decis &amp; never know what goin on',\n",
       " 'coal miner releas scath Ad accus obama of   lie  when referenc them via',\n",
       " 'dure 2008 debat obama blast georg bush for 10 trillion deficit | mobil washington examin',\n",
       " 'and like I said I dot care who presid is but obama sure as hell didnt do a good job fix anyth',\n",
       " 'when bush pass the baton to obama in jan of 2009 the 2008 2009 edit of the gci rank the US no1 as it had sinc 2006 2007 tcot',\n",
       " 'Do we realli need to ask cnn RT look like obama name winner by cb',\n",
       " 'ohio coal miner condemn obama  s absolut lies and sherrod brown too',\n",
       " 'roomstor A furnitur compani with 11 outlet go bankrupt under obama 500+ more unemployedwel At least they R not govt worker',\n",
       " 'So hilari claim obama & biden had no blame in benghazi I didnt know the state dept wa an independ contractor coverup',\n",
       " 'I add to your list angri clown biden deceiv obama gunrunn holder but not mitt he an honor man',\n",
       " 'I like a video the obama decept HQ full length version 1',\n",
       " 'dnc2012 did hillari clinton setup obama for tonight s debat tcot twister P2',\n",
       " 'barackobama scee barackobama',\n",
       " 'obama obama obama obama obama obama obama obama obama obama and obama',\n",
       " 'My face when I heard obama won the debat pfffft sure',\n",
       " 'obama at OU',\n",
       " 'obama will you answer the question ask democrat tcot',\n",
       " 'when peopl say 4 year wasnt enough for obama to fix 8 year of bush fuck up but it wa enough to get us doubl the deficit sick',\n",
       " 'jay z obama campaign Ad inspir young peopl To vote |',\n",
       " 'reppaulryan rememb obama ha no accomplish to run on',\n",
       " 'obama kagetkan pemilik ferrari tepat di sebuah hotel di pinggir sungai jame virginia AS para pemilik mobil m',\n",
       " 'that case cant be madeobama 60 romney 35 and gotta give candi a high five (she wa subperb)',\n",
       " 'great debat for obama last night I gotta say titl of one of my newest song is what went down and that is (I dont run from nobody)',\n",
       " 'obama got a lot of peopl root for him',\n",
       " 'financ money obama had A realli good day On intrad invest',\n",
       " 'obama won thi debat He wa in total control',\n",
       " 'obama 2 0 despit the hater',\n",
       " 'wish audienc had ask obama whi he did not do all the thing he continu to pledg to do if given 4 yr',\n",
       " 'wow I had the most amaz dream about obama ) )',\n",
       " 'onc again presid obama said the it would take more than one term to correct the mess that wa creat befor him',\n",
       " 'obama is now pander sinc when doe he believ in free enterpris',\n",
       " 'presid obama brought it home fourmoreyear',\n",
       " 'obama 1romney 1',\n",
       " 'batteri maker that obama hype declar bankruptci',\n",
       " 'romney 49 47 over obama romneyryan2012',\n",
       " 'although romney didnt do as bad as obama in the 1st debat I see it as 1 1 obama won thi round next is boca raton',\n",
       " 'soledad obrien need to start wear obama button',\n",
       " 'I wonder what obama trade hillari to take the fall obama2012',\n",
       " 'more notabl about sensata close their shop is that they did it in illinoi under obama economi pleas make thi an issu',\n",
       " '3 month 5 day 16 hour 59 minut and 59 second until obama leav offic',\n",
       " 'abc and fox new share the same romney poll supporttapp and abcfox lite    fascin',\n",
       " 'studi over a million constructionjob have been lost under obama So that what he meant by you didnt build that ~ fred thompson',\n",
       " 'our view parti room think obama won thi debat how about you',\n",
       " 'obama ha never respond quickli to a crisi whi would he now or in anoth 4 year ohio',\n",
       " 'obama morgan freeman whatmorecanisay',\n",
       " 'hillari took a bullet for obama n the buck is still fall',\n",
       " 'obama claim low skill job belong oversea   show hi real lack of concern as it regard have all american be abl to work',\n",
       " 'the republican jewish coalit say obama doe understand economi Do they understand presid',\n",
       " 'No act of terror will ever shake the resolv of thi great nation pre obama',\n",
       " 'dear obama2012 did you know that ohio coal miner told obama to quit ly',\n",
       " 'thi is bullshit team romney and you know it obamaorbust',\n",
       " 'winston salem journal endors obama they havent endors a democrat sinc 1964 obama is the best choic for presid p2',\n",
       " 'presid obama is in williamsburg',\n",
       " 'US retail sale jump 11 percent as consum spent more on auto ga and electron team obama/biden on the rise',\n",
       " 'who would have guess day befor the debat hilliari and her muslim brotherhood alli shield obama tcot tlot ccot teaparti',\n",
       " 'new W intellig syrian rebel don t have the number to win obama doesnt either debka obamassad',\n",
       " 'NO one believ OR trust obama everytim HE open hi mouth HE lie give him the finger IN novemb',\n",
       " 'real talk that the angriest I have ever seen presid obama',\n",
       " 'psaki say pre obama would rather be outsid recreat than insid in debat prep but she say he look forward to it',\n",
       " 'obama and the yanke lose tonight great night all around',\n",
       " 'obama hit back in fieri debat A more aggress barack obama buri the memori of a poor first show as he and challeng mitt R',\n",
       " 'pre obama redirect fund from other program /on',\n",
       " 'noam chomski issu that obama and romney avoid',\n",
       " 'can you outlin specif your gripe about BO im no obama apologist but he posit churchillian in comparison',\n",
       " 'presid obama lead for cyber secur polici and execut michael daniel',\n",
       " 'obama is goin in right noww hyfr',\n",
       " 'ac bout to listen to VP paul ryan give a speech and talk about how america comeback team will defeat obama lnyhbt teamfollowback',\n",
       " 'way to end the debat pre obama *applause* debat',\n",
       " 'obama believ in self relianc hahahahahahahahaha',\n",
       " 'obama you got to wash thi clown tonight b',\n",
       " 'it funni how these retir senat that are republican are endors obama',\n",
       " 'person not a fan of the town hall forum but overal it wa good obama clearli took the glove off for thi one',\n",
       " 'obama made sure muhafucka heard him & understand',\n",
       " 'A democrat poll ha the worst new Of the week for obama by',\n",
       " 'class warfar is all obama ha to run on 2012debat cantafford4mor',\n",
       " 'A more aggress obama still wont make the grade david limbaugh on townhal via',\n",
       " 'via tcot obama win in battleground state twister teaparti',\n",
       " 'obama doubl down on hi cover up I love it',\n",
       " 'barack obama the great debat',\n",
       " 'obama won that debat guy',\n",
       " 'he know the media is drool to be abl to claim an obama win and paint it as a great  comeback',\n",
       " 'check thi video out trixx michel obama via',\n",
       " 'obama you dont turn nation secur into a polit issu',\n",
       " 'appar obama ha the healin power of christ debat',\n",
       " 'plz flw updat obama critic hi own debat performance; georg',\n",
       " '[florida] obama disapprov +2 (quinnipiac) gop tcot',\n",
       " 'anoth misjudg perform by Mr obama [tonight] could inde come close to seal hi fate',\n",
       " 'VP joe biden deliv remark on the obama administration effort to restor the everglad in florida live',\n",
       " 'barack hussein obamainaugur presidenti address inaugur presidenti address by barack hussein obamaher',\n",
       " 'thank RT     who won that debat last night     obama notupfordeb',\n",
       " 'mark sanford obama will throw a lot of spears at next debat via',\n",
       " 'what did obama mean when he said when I wa presid did I miss someth wa',\n",
       " 'obama grab wide lead among those who have alreadi vote reuters/ipso poll     reuter abc new obama grab wid',\n",
       " 'look at thi sweet pictur and just think dictat obama ha no issu with stab thi babi in the head and kill it wakeupamerica',\n",
       " 'obama had to keep on push becaus hi pension isnt as big bowchickawowow foreignaffair debat',\n",
       " 'If obama is the answer how stupid wa the question bestbumperstickerev',\n",
       " 'democrat to obama it still the economi stupid To regain momentum in tuesday debat the presid econ',\n",
       " 'obama came with that uppercut tonit',\n",
       " 'from 2009 11 the obama year oil product rose two of three year for a net increas of 106 percent',\n",
       " 'the last question made obama shine',\n",
       " 'obama is an amaz speaker',\n",
       " 'food cuisin cheat sheet here s how to win obama recip cook',\n",
       " 'obama drone on and say noth',\n",
       " 'whi use tax to put obama up at 5 star resort for debat prep when we alreadi pay for camp david So he can segway',\n",
       " 'obama promis to protect medicar from gop cb new obama liber',\n",
       " 'how rude of you obama',\n",
       " 'look like obama name winner by cb googl and ppp snap poll No word from cnn poll yet presdeb',\n",
       " 'how obama fuel standard are shape the futur of transport 10 22 45 05 00',\n",
       " 'how do you think obama will do in the debat with all the pressur he under',\n",
       " 'Ed gillespi for everi job obama admin creat 6 peopl left the workforc debat',\n",
       " 'I guess obama didnt want biden to hog the spotlight',\n",
       " 'obama self relianc but you didnt build that',\n",
       " '47 refer obama applaus by blue crowd at afropunkdeb view debatebk',\n",
       " '_it_real_1 obama is the onli presid who ha never been blame for anyth by the msm',\n",
       " 'RT A more aggress obama still wont make the grade',\n",
       " 'obama shat on romney',\n",
       " 'sit right behind michel obama they gave me a sign debat whether to write romney ryan or viva la stool internalstruggl',\n",
       " 'obama detail matter',\n",
       " 'So read thi and then tell me all about how obama ha done a great job move us forward not back',\n",
       " 'Ex senat john glenn star in obama ohio ad grow up in ohio you learn to size up a person by their charact',\n",
       " 'the case against barack obama the geniu of the unit state is dy via',\n",
       " 'obama sort of walk into that one romney said that all obama doe is attack him obama stand up and attack him',\n",
       " 'stop barack obama today usa need your help will you answer the call',\n",
       " 'just watch the debat not sure obama wa the clear winner it hard to beat a good liar',\n",
       " '30 reason to vote for obama respons done rwd',\n",
       " '[ presid obama best choic for all american',\n",
       " 'did obama even do anyth hi last term that actual benefit america suffici',\n",
       " 'hahaha name is obama you white',\n",
       " 'obama need to end on 47 just for fun hofdeb romney obama he did and veri well too',\n",
       " 'obama latin support obama',\n",
       " 'where is thi extra money that obama ha said well have from end 2 unfund war you understand how ignor that sound',\n",
       " 'RT if your for obama )',\n",
       " 'hillary problem the fog of war obama problem the fog of bore debate2012',\n",
       " 'jen psaki obama energ and calm befor tuesday debat take prep as serious as he would a meet on small busi incent',\n",
       " 'see as im canadian& dont know as much about america as you do all I have to say is my famili would be vote for obama',\n",
       " 'rubio obama poison the well for reform on humanitarian immigr crisi',\n",
       " 'obama cut 13 billion in health care for troop via',\n",
       " 'former obama czar call romney douche On cnn updat jone apolog via pathet',\n",
       " 'anytim obama talk about believ in america and american I just dont believ it',\n",
       " 'I want obama b/c I look forward to my daughter grow up & say ugh We dont have enough men on staff Go get my binder full of men',\n",
       " 'obama didnt went straight into educ high end job prob there is high end = low volum We got that now in ireland',\n",
       " 'what do you guy see in obama he gotten us in over 10 trillion dollar in debt guess what guy we will be pay for that when were older',\n",
       " 'obama referenc the glass ceil mah man',\n",
       " 'A vote for obama is a vote for corrupt lie and coverup neednewpresid votesmart 2012',\n",
       " 'obama use 2 smoke that good shit obama use 2 smoke that good shit',\n",
       " 'who would believ obama today everyth is anyon else fault He spend more time in hollywood than he doe in the oval offic fail',\n",
       " 'im not say obama did a good job im say be ration on what thing he had to deal with',\n",
       " 'new usa obama footbal fan stab near candlestick park imag world newspap',\n",
       " 'gingrich insist obama libya cover Up wors than waterg via',\n",
       " 'Of cours im vote for presid obama I dont see ani other altern ;) haha',\n",
       " 'major of undecid xbox live voter declar obama victor of town hall debat Of the 2 000 or so undecid v',\n",
       " 'truth obama fail on emigr reform but the republican did to they never gave ani help even when they got what they want',\n",
       " 'RT just 21 day until elect day RT if your readi to cheer on presid obama in tonight debat teamobamabiden',\n",
       " 'hahah wear your obama shirt tomorrow patriot day and were gonna fuck it up',\n",
       " 'obama remind me of my 4 kid the other one did it what an ego he ha',\n",
       " '& obama win',\n",
       " 'obama smirk laugh off fast and furiou dure debat kati pavlich via',\n",
       " 'even in 2008 obama didnt statist show he wa a good enough candid for dew',\n",
       " 'gon head presid obama lol )',\n",
       " 'whi do U think obama hillari rice et al lie that a youtub video caus the attack whi is an american filmmak in jail',\n",
       " 'that knuckl obama be point be firm as hell',\n",
       " 'obama didnt get elect without a major of white peopl vote for himit would be imposs to win through the minor',\n",
       " 'obama all dayyy ))',\n",
       " 'vote obama',\n",
       " 'not all of hollywood ha hi back RT gene simmon yank obama support call him a  piss poor  presid',\n",
       " 'My aunti said she votin fa mitt romney cau obama be smoke too much cau hi lip blk lmmfao',\n",
       " 'realclearpolit video luntz focu group Of mostli former obama voter switch To romney',\n",
       " 'Of cours Mr obama wait to bring up 47 at the end when cant explain wow worri potu',\n",
       " 'articl militari famili are out obama obama is murder our militari war tblfod tcot',\n",
       " 'hooray obama thank you for fight for anoth four year even though you shouldnt have to xo',\n",
       " 'I know peopl that have healthcar becaus of obama I know peopl that have job becaus of obama (via &)',\n",
       " 'proof obama   s A muslim via',\n",
       " 'get readi for the romney vs obama debat',\n",
       " 'pavingashittytrail the gop is lay the groundwork to make obama appear like the angri black man the activ pbo give tonight will win',\n",
       " 'obama need our prayer for tonight debat thi is seriou pass it on to your folk who believ that prayer work',\n",
       " 'So obama won the debat last night let talk about it',\n",
       " 'I am impress by presid obama perform in the second debat I am sure it will earn him doubl digit in the opinion poll',\n",
       " 'not to mention fact a few minut later weekend updat tell viewer sesam street demand obama not use big bird = not good',\n",
       " 'yessss obama won thi',\n",
       " 'you are so mean to obama whi all of a sudden bse of a poll',\n",
       " 'obama won libya and that close the pension quip',\n",
       " 'debat there are some job that wont come back obama get off your ass and make corp tax compet and stop block anwar',\n",
       " 'those arent swing state all pretti solid for obama',\n",
       " 'I have a feel that obama still ha a sucker punch left in him',\n",
       " 'anoth ceo threaten To fire employe If obama win via',\n",
       " '09 barack obama profil proud yet humbl confid yet scare a dreamer mug by realiti idealboyfriend',\n",
       " '[news] obama will tri to bend town hall debat format to hi advantag (blog) obama will',\n",
       " 'vote obama',\n",
       " 'sound evid that romney got hi ass kickedsmh RT obama is a nigger presidentialdeb',\n",
       " 'geraldo declar obama winner by a moustach hair debat',\n",
       " 'obama hasnt rais person incom tax',\n",
       " 'obama you have my vote',\n",
       " 'even if that were true he done more obama ever did to creat job for the middl class',\n",
       " 'with the way inflat is go if we have anoth 4 year of obama you will not be abl to afford ice cream',\n",
       " 'obama must have taken lesson from biden recent pdslive debat',\n",
       " 'I think obama had hi turn tonight',\n",
       " 'romney trail obama in sept fundrais',\n",
       " 'obama laywer r alreadi work on law to pass a bill seal all presidenti recordsjust like all hi other rec',\n",
       " 'I honestli cant wait to vote wish I regist in atlanta but ill be rock my obama shirt in good ol suwane _',\n",
       " 'video can obama lose ohio',\n",
       " 'obama kill that one kill it',\n",
       " 'did obama tax dollar go to thi studi thank you capt obviou studi women more stress out after read bad new',\n",
       " 'from where I sit obama ha done plenti to divid america how is he not like lynch',\n",
       " 'obama travel plan show map is wide open financi time travel',\n",
       " 'whether obama win or not',\n",
       " 'sinc u keep talk about the elector colleg obama is ahead in all the major state except in the slow ass south',\n",
       " 'dukemaximum thi make obama look weak have hillari take respons',\n",
       " 'obama camp eager for next debat',\n",
       " 'will obama take respons for push aggress campaign of lie as american lay dead doubt it will be full repons',\n",
       " 'obama won that debat',\n",
       " 'obama won thi handsdown',\n",
       " 'woman At VP debat call obama A communist',\n",
       " 'fire up obama take offens in crucial debat [jakarta post]',\n",
       " 'Yo wife is ugli romney she dont have noth on the flawless michel obama',\n",
       " 'obama pick anoth loser as a123 file for bankruptci after get 249 million in taxpay',\n",
       " 'wonder who michel obama is vote for I mean all bet are off',\n",
       " 'popular new obama win the second debat too bad it   s not the one that matter tfb goo',\n",
       " 'thi race is dead even the remain debat are more critic than in ani other elect If obama want a 2nd term he gotta fight 4 it',\n",
       " 'final a topic obama know a lot about gangbang',\n",
       " 'obama cranki angri all night did you see hi eye yike',\n",
       " 'u boyz better stay out da way they lockin shit up ju so black ppl cant vote for obama',\n",
       " 'except brown wa an ars RT obama seem a seriou politician who cant be bother with silli game a bit like brown',\n",
       " 'obama still look like a monkey some thing never chang',\n",
       " 'barack obama wa killer tonight he caught romney in hi lie',\n",
       " 'op/ spencer black It s clear that obama is better for the environ',\n",
       " 'If your angri about obama lie last night',\n",
       " 'obama ha real plan and real solut hofdeb',\n",
       " 'vote for barack obama on twitter presidenti elect 2012 now hillsboro maryland ohio',\n",
       " 'report are you awar michel vote for you yesterday  obama thank good',\n",
       " 'bachmann obama allow muslim brotherhood influenc oper',\n",
       " 'obama whoop both romney and the moder dayummmm obama2012',\n",
       " 'obama is a disgrac for america',\n",
       " 'okay one more time presid barack obama wa born in the US the man is as american as I am accept it deal with it',\n",
       " 'peopl expect obama to chang america',\n",
       " 'whoooooooooaaa nelli ) RT fox new poll ha obama win tonight debat by 70',\n",
       " 'yooooo thi shit real watch barack obama IM gonna win (im goin In spoof) on youtub',\n",
       " 'bad news mitt romney statement violat causal within the eschaton histor light cone',\n",
       " 'just listen to obama talk and blatantli lie is enough to make me want to vomit over and over again',\n",
       " 'debat absurd If obama had been talk about benghazi attack on the that day in the rose garden',\n",
       " 'obama as a babysitt jeez Do liber want to kill your babi and play with them too',\n",
       " 'obama won that debat hand down',\n",
       " 'the reason obama got elect in the first place is hi smooth speech fill with simpl vocabulari',\n",
       " 'fox new say romney won given their record of accuraci we can be confid that obama did',\n",
       " 'john romano employ who told worker theyd go if obama win is just a misunderstood kinda guy',\n",
       " 'If you think obama fit to be presid im gonna take a wild guess and say youd prolli let casey anthoni babi so your kid',\n",
       " 'great debat presid obama',\n",
       " 'watch presidenti debat number 2 hope for obama comeback obama2012',\n",
       " 'obama will go down again',\n",
       " 'presid obama said tonight that he intend to reintroduc an assault weapon ban in hi next term',\n",
       " 'obama sustain effort to claim he not respons for anyth belong in a letter of resign not a re elect campaign',\n",
       " 'obama grab wide lead among those who have alreadi vote reuters/ipso poll washington (reuters) US presid',\n",
       " 'obama pot polici disappoint to say the least 420 legaizeit via',\n",
       " 'eghh As an object viewer gotta give the edg to obama No way thi wa a draw',\n",
       " 'that sound danger and scari much like the obama administr No one want to see more of that',\n",
       " 'your do great obama you sure are forward 2013',\n",
       " 'i wouldnt be pleas wish gaga could fix it so monster all round the world could vote for obama',\n",
       " 'I wa curiou abt the number presid obama had about 44 04 minutes; governor romney had about 40 50 minutes;',\n",
       " 'presidenti debat four way obama',\n",
       " 'obama is definitli mad now lol',\n",
       " 'faz TV duell obama gegen romney boxkampf mit zwei siegern okru',\n",
       " 'obama strength is connect with regular peopl but can he counter whatev fib romney ha in store which romney will show up',\n",
       " 'the entir obama famili',\n",
       " 'where are hillari support especi women liter obama ha a war on women blame hi derelict of duti on sec clinton fireobama',\n",
       " 'presid obama and hi fellow democrat are either idiot or deliber tri to destroy their own economi    vladamir putin',\n",
       " 'So romney absolut destroy obama again tonight thi shit is becom almost humor still a straight ron paul support though',\n",
       " 'obama won hand down gener',\n",
       " 'im obama and I approv thi messag',\n",
       " 'obama mole',\n",
       " 'obama wasnt even born here',\n",
       " 'anoth reason to not vote obama He prolli play xbox and need tor space',\n",
       " 'thi is ridicul is that the way obama is tri to win vote target women with lie I am smarter than that',\n",
       " 'they dont even realiz most black folk have white ancestor & mani white have black ancestor If obama not black who is',\n",
       " 'obama pride lgbt american for obama video star zachari quinto wanda syke chaz bono and more',\n",
       " 'had to take ur aviloool obama 2termz',\n",
       " 'ceo warn employe of layoff if obama is reelect america elect nbc cb abc yahoofin reuter RT',\n",
       " 'how about romney and obama can eat a dick what they do is a job & they make money off of all you dick brain they dont care about ppl',\n",
       " 'I guess obama suck cuz he wasnt rude like romney',\n",
       " 'nbcpolit obama won thi one',\n",
       " 'im actual begin to feel sorri for obamanev mind it pass like smelli ga',\n",
       " 'barackobama and are vote earli join them visit for more inform',\n",
       " 'it simpl what obama need to do push forward polici and aggress put doubt in voter mind about gop',\n",
       " 'whi doe it matter if honey boo boo endors obama I dont think we need the hillbilli vote to winalso she 6',\n",
       " 'obama is out of shape profession not take the tough question and do softbal stuff like the view',\n",
       " 'obamamor pois fluid natur achiev what he need to good work',\n",
       " 'obama lead in recent US survey',\n",
       " 'obama kill it man good job on prove that factual error by your oppon im proud',\n",
       " 'wish obama success in 2day debat',\n",
       " 'obama at OU today how rawww is that',\n",
       " 'who will report thi evid senat mccaskil awar of obama inelig in    08    tcot ccot',\n",
       " 'bitch be like obama 3 bitch just want food stamp lmao _',\n",
       " 'the more danger the neighborhood the more obama sign I see interest',\n",
       " 'obama got more immigr out of here than ani other presid',\n",
       " 'ingraham & hume scold nyt   s zeleni and media for not pursu obama administr   s dissembl on libya',\n",
       " 'If you realli care youll vote obama red state have highest abort rate most teen pregnanc gop fail',\n",
       " 'obama realli ha two oppon in thi campaign He ha mitt romney and he ha the nation economi politico',\n",
       " 'poll obama ha swing state firewal',\n",
       " 'obama thank for answer question in the first minut of your turn instead of walk around them abcpolit',\n",
       " 'poor obama felt offend He is not use to have to answer for the truth debat',\n",
       " 'classic all the moder thu far have all been die hard liber pull for obama and mitt still wreck him',\n",
       " 'iv seen 3 presid look at and lie to the american peopl nixon clinton now obama obama lie involv the death of four peopl',\n",
       " 'wow michel obama wa just in chapel hill now she at the debat sheflyin',\n",
       " 'obama support in ohio encourag by president debat perform washington post abc newsobama support',\n",
       " 'obama I just donat and would like to wish you luck Mr presid We need anoth four year of obama',\n",
       " 'obama need to be on defens tonight i/s/o offens He need to defend with fact and figur no rhetor no BS just truth if possibl',\n",
       " 'and not through social media all I see is peopl bash either romney or obama If it a valid point to make then fine',\n",
       " 'destruct presid a ebook about obama by studi presid obama about hi alcohol use',\n",
       " 'unemploy still 100 at my hous pelosi feinsteobama california',\n",
       " 'dnc2012 doe obama realli think that american believ the skank from hollywood',\n",
       " 'thank for show up thi time obama it nice to have you back obama2012 forward',\n",
       " 'a123 system file for bankruptci today make it the 13th fail green energi compani that obama have stimulu money to obamaisntwork',\n",
       " 'the rev madison shockley whi obama deserv a second term truthdig via',\n",
       " 'I hope ppl are smarter than im vote for the obama cuz he black Do u knw whi u r vote for the black guy or u just are',\n",
       " 'In nevada gari johnson draw mostli from obama',\n",
       " 'lol love the video can I get one of those obama glo ball',\n",
       " 'ha ani journo ad up the dozen of pension romney raid sensata obama',\n",
       " 'ahhhhh yesss obama that how you close it out obama2012',\n",
       " 'debat women hate bulli and liar obama will lose the women vote with thi perform obama fail',\n",
       " 'too mani peopl on the obama bandwagon sole becaus he black',\n",
       " 'cha ching obama own share of sensata person benefit by outsourc of job to china',\n",
       " 'ohio coal miner to obama stop lie absolut liesfirst caught wind of thi remark litt tcot tlot p2',\n",
       " 'destruct presid a ebook about obama by show presid obama and hi marijuana use',\n",
       " 'ladi and gentlemen obama is in town theyr shut down the street so everyon had to come to me today avoid hofstra univ 2day',\n",
       " 'like obamacar obama core Is anoth power grab tcot',\n",
       " 'im at work what did obama do that made everyon lose their shit',\n",
       " 'though the obama admin stop all interrog He use the inform that bush adminhad got to go after bin laden',\n",
       " 'obama    We got back everi dime    of bailout; cbo bailout will lose 24 billion | via',\n",
       " 'obama +4 Th s w s up yeah yeah',\n",
       " 'you just had to know that obama would close with a 47 jab',\n",
       " 'I ban cnn in my hous a long time ago thi prove whi cnn host goe to battl for obama',\n",
       " 'obama is econom clueless debat',\n",
       " 'obama said india As a brown guy I have to vote for him now debat debat',\n",
       " 'debat float like a butterfli sting like a bee obama s 47 point knockout in the last round wa just like muhammadali',\n",
       " 'I unfollow her ass for say team obama thatshitstopstoday',\n",
       " 'obama    We got back everi dime    of bailout; cbo bailout will lose 24 billion',\n",
       " 'obama just went in there rape that shit like a fuck boss',\n",
       " 'omg that wa the funniest thing ever and everi person struggl in obama economi want to say it too',\n",
       " 'im not interest in neither parti but as far as thi elect go I do hope obama win but thi whole shit is',\n",
       " 'My first goal is to kick obama out of the white hous My second is to get crowley fire )',\n",
       " 'beard for obama',\n",
       " 'is onli concern with discredit obama what els is current in the world that the america should know too repetit',\n",
       " 'keith I think anybodi vote for obama is undecid',\n",
       " 'look like snap poll give slight victori to obama in debat it up to the spinner to win thi one now',\n",
       " 'video new Ad expos barack obama   s support for talmud 2012uselect mishnahsanhedrin45 muslim tcot sioa',\n",
       " 'If obama thought libya wa an act of terror whi did he & hi staff come out on numer tv show for 2 week cite a video wa to blame',\n",
       " 'romney doesnt have a five point plan he ha a one point plan obama that right call hi bullshit',\n",
       " 'batteri maker bankruptci give obama critic more ammunit washington expos presid obama to further',\n",
       " 'obama doubl down on deceit fraud lie coverup by invok exec privileg',\n",
       " 'obama gon beat yo ass',\n",
       " 'obama put the blame for benghazig ON hillari OF cours it the woman fault 4 job',\n",
       " 'agre on points; but how can obama address climat chang w near zero chanc a cnn pick undecid voter will ask about it',\n",
       " 'yall see thi shit  obama shut up you nigger your a liar your brother live in kenya where you were born romney2012',\n",
       " 'with more on obama  s disastr syria polici via h/t',\n",
       " 'koch industri other ceo warn employe of layoff if obama is reelect | the ticket yahoo new via',\n",
       " 'My first job is to say thank you to those who vote me those who didnt im go to get your vote next timebarack obama not like',\n",
       " 'when the debt clock hit 16t im throw a go away parti for obama byov (bring your own vote)',\n",
       " 'it realli not even that I realli like romney I just realli hate obama',\n",
       " '3) obama pelosi reid mccaskil mosen and cleaver mo5 love it vote them out tcot lnyhbt',\n",
       " 'No obama didnt offer chang to you racist the chang wa get away from you racist',\n",
       " 'obama ha a hard time tell the truth',\n",
       " 'obama got 4 more min becaus he kept cut him off donna brazil is so stupid',\n",
       " '[illinois] obama approv +14 (chicago tribune/wgn TV poll) poll',\n",
       " 'obama is a muslim',\n",
       " 'youngstown OH ha worst poverti in US &gt; 497 have obama polici help you ohio cincinnati osu',\n",
       " 'romneyryan2012 romney2012 when dem attack for not explain polici remind them that obama won with a polici of chang & hope',\n",
       " 'obama biden2012',\n",
       " 'RT WI gop mailer obama didnt build that comment mean he believ govern build busi fals',\n",
       " 'michel obama how to get the look video via',\n",
       " 'romneyroadteam dont give an inch obama ha been trash talkin all weeklet see he can say it to your face',\n",
       " 'whi are peopl mad at obama bush fuck us up obama ha made it better shit doesnt happen over night',\n",
       " 'obama your kinda avoid the question youv suck thu far time to step it up um nope time up',\n",
       " 'I wont believ it real until ross produc support chart RT ross perot endors mitt romney for presid',\n",
       " 'obama is liter choke',\n",
       " 'If romney support are now fire shot into obama campaign offic I am not go to go into romney offic not for some time to come',\n",
       " 'obama a real nigga he gave hi wife a shoutout on cnn while some of you guy wont even put your girlfriend in your bio',\n",
       " 'obama hope nicki minaj can  sort It out',\n",
       " 'I hear that obama is go to dress up as a leader for halloween',\n",
       " 'I support presid obama becaus he support me     morgan in nevada obama2012',\n",
       " 'obama did lower tax for million of american unemployed/underemploy worker who made less paid less tax becaus they   re wors off',\n",
       " 'your right obama some job aint common back    thank',\n",
       " 'that debat wa like obama be the bu driver & romney be that rude bitch',\n",
       " 'soth theori that obama threw the first debat to make hi effort in the second one seem more impress is certainli look viabl',\n",
       " 'i dont want obama to win becaus he black i want him to win caus he actual want to make a chang',\n",
       " 'tim allen hilari show mock obama tim allen fox nation',\n",
       " 'obama make thing up again debat',\n",
       " 'musicnew lena dunham applaud obama on gay right health care after tweet last week stylerock liferock',\n",
       " 'whi gay republican should vote for obama almost 30 percent of gay peopl vote republican in 2010 So here w',\n",
       " 'braccio di ferro obama romney qual dei 3 vorrest come president usa twitandshout',\n",
       " 'break new obama green scandal antarct ice at highest level on record global warm stop 16 year ago',\n",
       " 'I do not think obama is the better choic hi econom polici are poor and he extra judici had an american citizen kill',\n",
       " 'u do know that nate wa feed obama info in 08 right he not a 0 guy race is tie and tmrow is big',\n",
       " 'brokaw   obama Is go To have To answer for  out Of control deficit tcot obama',\n",
       " 'I have never been more proud of presid obama than I am tonight long may he reign gop tcot dem p2',\n",
       " 'must make it a prioriti to watch the presidenti debat tn obama',\n",
       " 'real talk obama make a lot of good point in which I believ in',\n",
       " 'In the next debat obama need to articul hi vision for the futur',\n",
       " 'obama campaign strategist it will be an interest debate',\n",
       " 'obama win the debat & the tig are close to a sweep greatnight',\n",
       " 'obama got the trap nigga',\n",
       " 'Rt ha truth when obama speak I listen care when romney speak i check my twitter facebook instagram and scratch my ass',\n",
       " 'Ma nigga got enough white too build barack hous',\n",
       " 'lmao presid obama just came for him I believ govern creat job debat over',\n",
       " 'he doesnt support obama care that what I meant by that',\n",
       " 'oeturner212 I just wrote a book to show the world that obama is a compet fraud thank for the follow',\n",
       " 'will ever correct romney the vast major of that deficit is bush particularli hi 2 war obama final put on the book',\n",
       " 'wowi think the left press ha fool you obama look like a staunch conserv in comparison',\n",
       " 'thx obama mitr doesnt add up at all He is insan and a punk bytch',\n",
       " '30 reason whi peopl under 30 should not vote for obama',\n",
       " 'hillari may be bank shot set up obama get ask about it tonight and say veri comand In chiefli No I take full respons',\n",
       " 'obama need a clear win',\n",
       " 'obama lead among earli voter poll via',\n",
       " 'rasmussen swing state tracker ha move 4 point toward obama in the past 3 day put him at 49 47 today justsay',\n",
       " 'obama gonna eventu remind romney he from chicago 3hunna',\n",
       " 'obama for the win debat',\n",
       " 'how obama fuel standard are shape the futur of transport',\n",
       " 'mama dont let your babi grow up to be obama let em pick guitar and drive them ol truck caus cowboy have manner they dont interrupt',\n",
       " 'Re hillari what is it about obama that engend thi sort of fealti He just seem like an inept civil servant to mani of us hillari',\n",
       " 'candi crowley just admit obama and herself were wronglol tcot debat',\n",
       " 'the obama timelin',\n",
       " 'In second debat obama face challeng on key issu',\n",
       " 'obama is so fuck stupid rommneyandryan',\n",
       " 'dam right obama',\n",
       " 'I have to speak up anyon who vote for obama is not educ on the fact about thi guy',\n",
       " 'obama had more sens less god simpl fact',\n",
       " 'out of work colleg grad live back at home with parent are disgruntl with obama election2012',\n",
       " 'obama is not seriou about our nation secur',\n",
       " 'debat rose garden presidenti statement (3 53 mark) obama say all american alway clearli not talk specif of benghazi',\n",
       " 'wait for presid obama to exhal',\n",
       " 'barack obama pleas check the fact',\n",
       " '47 is final brought up by obama boom',\n",
       " 'carey and minaj will sort out feud say barack obama quit obvious the no1 issu to clear up in the middl of an elect',\n",
       " 'obama plan more assert debat cite great prep yahoo new via case4prez',\n",
       " 'hillari fall on the sword but buck stop on obama desk O that right he wa in la vega at a fund raiser the day after 4 peopl die',\n",
       " 'the truth about govern spend and the stimulu under obama debat',\n",
       " 'Is it possibl to believ in capit while bring a socialist that what obama just said he want us to believ debat',\n",
       " 'presid obama alphabet soup of failur economi job fastandfuri keyston coal solyndra race',\n",
       " 'well sinc no one guess tomorrow im go to meet presid obama No im not joke im 1000000 seriou',\n",
       " 'BS thi name is obama',\n",
       " 'obama state that we shall no more see warfar weapon on our street So pleas at least wrap them in a paper bag spinoza',\n",
       " 'moral leadership what obama ha to show tomorrow in the debat perform and for real via',\n",
       " 'mileston obama campaign say it surpass 4 million individu donor in 2012 alon gop tcot p2',\n",
       " 'appar the onli thing barack obama is respons for in four year as presid is clean up after Bo the dog scooperinchief',\n",
       " 'romney get traction obamadidntbuildit',\n",
       " 'i just told my mom she look like a white michel obama and she didnt even say thank you wow rude that wa my best compliment',\n",
       " 'obama went over time the host said time wa up hi repli thi is import it also import 2 follow the rule presidentialdeb',\n",
       " 'teacher what is someth you know that doesnt dissolv in water  barack obama',\n",
       " 'obama on tonight debat I feel fabul look at thi beauti day (pool)',\n",
       " '[dunia] debat putaran kedua obama melawan balik ayomedia',\n",
       " 'ohio coal miner condemn obama s absolut lies and sherrod brown too via ohio',\n",
       " 'peac love obama prezdeb',\n",
       " 'doe romney ask obama about fire clinton over amb death and poor secur buckstopsher',\n",
       " 'I find it veri interest that obama critic romney for have a larg pension I guess he think success is bad that the obama way',\n",
       " 'not onli will to cheer but 100 behind presid obama',\n",
       " 'still dont know where goper get that obama said al qaida is complet destroy he onli said he ridden of mani leader',\n",
       " 'im so readi for some obama action',\n",
       " 'that becaus obama cap and trade plan wa shelv by harri reid',\n",
       " 'joke Q what differ between obama and hi dog bo A BO ha a paper',\n",
       " 'former presid bill clinton recent said here   s anoth job score  presid obama plu 45 million congression republican zero',\n",
       " 'obama that wa an excel perform solid answer with specif romney refus to answer the question about tax code & deduct',\n",
       " 'he rebut barack obama A plan to move us forward de linkedin O o hora de llevar se del linkedin ja tardava',\n",
       " 'think obama won on the close statement alon',\n",
       " 'the rhetor of obama tonight when talk about libya and in gerner onpoint soempow',\n",
       " 'you got to be a cracker or a warmong if you aint vote for obama white bread and caviar or real chicago style dog hip hop nation vote',\n",
       " 'michel obama old ass be lookin good  ew lol',\n",
       " 'style what Do you want to ask presid barack obama As elect day near obama 51 ha agre to answer q',\n",
       " 'rabbi against obama    to protest in florida israel nation new',\n",
       " 'Oh ben the obama campaign fight a fail presid with lie and innuendo ben labolt is presid obama propaganda tool',\n",
       " 'He lie hi ass off about that 2007 obama speech It wa wide cover by him on cnn among other dailycal',\n",
       " 'obama need a vacat',\n",
       " 'RT  barackobama just 21 day until elect day RT if you re readi to cheer on presid barackobama in tonight s debat teambarackobamabiden',\n",
       " 'obama is a gangster',\n",
       " 'obama tout fair pay for women',\n",
       " 'let be clear obamai no great friend to immigr and brown peopl around the world debat',\n",
       " 'obama pick side in nicki minaj mariah carey feud via',\n",
       " 'axelrod refus to say whether obama met with nat   l secur team befor head to la vega via',\n",
       " 'whi bill hire attorney obama ha hillari take respons for benghazi hide behind her pantsuit gutsycal',\n",
       " 'obama obama',\n",
       " 'sensata outsourc romney conflict of interest in china via obama2012 p2 tcot',\n",
       " 'I see all my homi say they are vote for obama then I look at that girl tweet that call obama a nigger exact opposit smh yo',\n",
       " '[video] obama   s chang',\n",
       " 'obama drop the 47 bomb at the end nice done debat',\n",
       " 'obama got thi',\n",
       " 'obama give precis detail on how to fix the market',\n",
       " 'obama should respond to libya how he did to the underwear bomber He took respons then he should do so now',\n",
       " 'debat 2 tonight I hope obama bring a lot of energi tonight thi debat is crucial obama2012',\n",
       " 'gop is gonna say that mitt won and candi show bia toward obama debate2012',\n",
       " 'omg she is so obvious bias It wa not fair at all she wa consist help obama im so mad',\n",
       " 'He should also mention that he follow the american dream imposs to do under obama O say you R rich at 200k',\n",
       " 'iv never seen a group of peopl avoid respons more than the obama administr american whi i',\n",
       " '& u look like a non muthaf*ckin factor RT obama is look rhetor and weak is look strong and sharp',\n",
       " 'break nobel peac prize committe to take respons for obama failur to heal the planet',\n",
       " 'If obama lose Im pack all MY shit and move to bikini bottom fuck the bullshit',\n",
       " '3 month 4 day 15 hour 59 minut and 48 second until obama leav offic',\n",
       " 'it amaz how romney critic for what he didnt do but hi plan will take 5 8 year to see real chang not backward',\n",
       " 'obama mentor as a teen and young adult wa frank marshal davi look up that name real quick sketchybusi',\n",
       " 'destruct presid a new book about presid obama by studi about hi patern abandon',\n",
       " 'I realli dont care for obama',\n",
       " 'On the economi obama team a better bet than the gop altern',\n",
       " 'presid obama win scholast poll plu other good news via',\n",
       " 'obama is such a chill person lol',\n",
       " 'obama clearli won the debat on substanc and style and I thank him veri much especi when make the point to enhanc educ n women R',\n",
       " 'RT If Pr obama refus blame for libya he should stop take credit for bin laden leader cant have it both ways/ true',\n",
       " 'obama failingagenda is buri the middl class and hurt famili RT if you agre and read more from afp prez',\n",
       " 'r_e_t_w_e_e_t for obama favorit for romney',\n",
       " 'presid obama doesnt even answer a ligit question about the libya situat or didnt want 2 famili of the deceas want answer',\n",
       " 'We all live hi dumbass polici everyday thi is obama economi and He suck at it',\n",
       " 'obama mouth ha been zippedexcept on the view where tough question come fromand oh yeahletterman tcot',\n",
       " 'stellar perform pre obama',\n",
       " 'presid obama',\n",
       " 'obama gave the signal',\n",
       " 'obama doesnt understand the fundament of our economi for him to keep push the 14 taxes garbag show how out if hi leagu he is',\n",
       " 'presid obama kill it in the debat obama2012 winconsin 2012',\n",
       " 'will you automat show respect for romney if he win regardless of how he lead',\n",
       " 'racistlog  omg peopl calm down im not racist I just hate obama',\n",
       " 'obama did not answer the question on libya romney miss the opportun to demand an answer n the moder didnt demand an answer either',\n",
       " 'obama in addit to free healthcar could I pleas get a new car free of charg sinc im in the middl class thank',\n",
       " 'obama foreign polici He ha a speech for that',\n",
       " 'lieobama call the privat sector as the enemi',\n",
       " 'mcgurn the wizard of obama election2012 debat lnyhbt war tcot ocra teaparti rr2012',\n",
       " 'No doubt tonight winner is presid obama',\n",
       " 'interest that the visa narrat for the olymp narrat the obama ad sinc that how he paid for the last 4yr',\n",
       " 'dont forget that first obama deni (security) then american die then he lie what a guy',\n",
       " 'obama want high wage',\n",
       " 'which state googl the presidenti candid the most americans eye will be on presid obama and mitt',\n",
       " 'i rememb that veri well let hope obama bring hi A game though',\n",
       " 'lipstick on a pigdemocrat say obama will Be more aggress energet in second debat gop teaparti',\n",
       " 'here we go outsourcingobama do you have no shame',\n",
       " 'zandi romney tax math doesnt add Up latinosforobama2012 latism votolatino via',\n",
       " 'obama vote for women right to murder indiscrimin vote for obama',\n",
       " 'A warhol homag vote obama',\n",
       " 'youv got to be f ^ing kid me trickl down economics is obama polici did you eat paint chip as a kid',\n",
       " 'romney is get drown out by both obama and crowley debat',\n",
       " 'Mr obama If you are nervou today & smoke a lot of cigarett obamacar doesnt like that',\n",
       " 'mayb but is bama short for someth other than obama bc that sure aint hot',\n",
       " 'WH pool report report Is hillari to blame for benghazi  obama silenc kept walk',\n",
       " 'obama doj scrambl To dismiss fast & furiou lawsuit suit need to go forwarddean',\n",
       " 'obama suck',\n",
       " 'anoth electr car batteri maker that receiv 249 million feder grant file for bankruptci put anoth point on team obama scorebd',\n",
       " 'I give obama a pat on the back for hi a patienc nbcpolit',\n",
       " 'well good he wouldnt use peopl tax to pay for the churchbut noth to worri about anyway obama will win',\n",
       " 'there is a poster hang muskegon high school that read vote obama or No food stamp for Yo mama',\n",
       " 'barack obama the 44th presid of the unit state 2008 2016',\n",
       " 'obama wa such a gentlemen tonight and won the debat I had my doubt but he wa strong tonight',\n",
       " 'well said RT  poor obama imagin the mess he go to inherit if he win (',\n",
       " 'half of u nigga onli like obama becaus he black that whi mccain lost and that whi romney gone lose',\n",
       " 'presid obama to mariah carey & nicki minaj stop the fight arent there bigger issu in the world',\n",
       " 'between fast and furiou benghazi and the war what is the current bodi count on pre obama inteptitud tcot',\n",
       " 'obama biden',\n",
       " 'former aid on obama stun that He   s in polit becaus He realli doesn   t like people via ouch',\n",
       " 'haha my doctor is one cool ass dude swear he wa just talk shit on my mom and  for be obama support lmao',\n",
       " 'two motorcyclist involv In michel obama motorcad escort injur In crash along US 36 via',\n",
       " 'shut UP asian No one care how much you hate obama or how mani colleg your appli to',\n",
       " 'My issu is with the gotcha hypocrisy dont like it and both parti have particip in it but imo obama is unrel',\n",
       " 'obama 1st term 18 new tax with obamacar alon with 15 [dc] bureaucrat make HC decis 4 U 716b mcare loss 2012elect',\n",
       " 'cnnpoll obama won 2nd presidenti debat by narrow margiin new',\n",
       " 'can obama get elect without an oprah show',\n",
       " 'barack obama take command in second presidenti debat',\n",
       " 'everi time I see someon say name one thing obama did my respons will be lol bin laden',\n",
       " 'latino american families job secur threaten by obama amnesti polici latino american vote for job vote mittromney',\n",
       " 'obama campaign say it surpass 4 million donor yahoo new via',\n",
       " 'obama like peopl just not success one who actual contribut to the economi p2 tcot',\n",
       " 'obama2012 vote for obama all day yesss',\n",
       " 'obama',\n",
       " 'either way well see what debat hold tonight We need a good debat from obama tonight for variou reason',\n",
       " 'pourquoi ont nechang pa holland avc barack obama ont nen na trop besoin la',\n",
       " 'On that last respons by obamathat boy went jordangam 6 *jay Z voice*',\n",
       " 'let Go obama ur the bom U gonna win everyon know that )',\n",
       " 'amaz hillari take the blame for benghazi the night befor the debat how conveni for obama fish rot from the head down',\n",
       " 'seem to be never end RT updat clean energi obama croni a123 file for (cont)',\n",
       " 'RT  miner fight back against obama TV Ad absolut lie via',\n",
       " 'most politician fail but obama Mr hhsmandat where do you get yr info guttmach prochoic prolif',\n",
       " 'obama must have gotten realli high oral mark in english when he wa in highschool probabl roast the fuck out of everyon',\n",
       " 'obama is the definit of clutch',\n",
       " 'If obama had brace we would truli have a real life beavi and butthead',\n",
       " 'im go to church presid barack obama',\n",
       " 'obama is just a puppet for georg soro the most evil man in the world',\n",
       " 'Ig im the onli one who doesnt like obama',\n",
       " 'clean energi obama croni a123 announc debt default I told you about 250 million stimulu subsid batteri',\n",
       " 'am i the onli one who think tht obama let hillari take the blame will backfir beyond upset women he just look small',\n",
       " 'obama is so fine',\n",
       " 'obama or romney whose websit Is faster',\n",
       " 'RT if you agre with gene simmon obama is a piss poor presid',\n",
       " 'omg A somewhat ration obama support No way sensata',\n",
       " 'obama plan creat job for teen',\n",
       " 'thank good for dvr I can FF through the new obama ad with the morgan freeman voiceov',\n",
       " 'obama team vow presid will have aggress debat put bain on the tabl',\n",
       " 'obama is hi last name barack is hi first',\n",
       " 'governor romney you dont have a 5 point plan you have a 1 point plan that wa a good one debat',\n",
       " 'It seem like obama never realli have time to make hi point but romney do',\n",
       " 'I like the zesti obama we saw last nite debat',\n",
       " 'Uh huh michel obama   We are in the midst of a huge recoveri  | via',\n",
       " 'obamakil it tonight absolut kill it If i believ ani of it I would vote for him but such an improv',\n",
       " 'romney final reveal hi tax plan it unbeliev',\n",
       " 'obama is fight for veterans job',\n",
       " 'obama for presid 2012',\n",
       " 'mitt stuck hi chin out and obama punch it chri matthew',\n",
       " 'photo deni mcdonough deputi nation secur advisor left talk with presid barack obama',\n",
       " 'If you read today news headlin youd think obama and romney were in a ufc cage match instead of use mildli heat rhetor',\n",
       " 'obama say he kept commit he made agree/disagre fightforjobsdisagre',\n",
       " 'libya will again be the main talk point come out of thi crowley (false) interject will actual hurt obama thi week',\n",
       " 'got my obama ticket and readi for wednesday excit obama2012 athensoh',\n",
       " 'obama say that romney hold extrem posit will follow through on them if he win work for obama last time',\n",
       " 'If you have not decid who to vote for consid obama record abort lie deceit cover up roe 16 trillion unemploy 8 ophon',\n",
       " 'obama hand down',\n",
       " 'newsflash for joe biden obama ha weaken nation secur   the greenroom via',\n",
       " 'the presid need to channel a littl biden for tonight debat he need to go from obama to obama',\n",
       " 'finish watch the entir debat obama won hand down',\n",
       " 'presid obama on women right 2012 presidenti debat in hempstead',\n",
       " 'whoa frank luntz NV focu group is hate on obama and love romney wow debat',\n",
       " 'and it is my opinion that obama on hi worst day is better than romney on hi best dat',\n",
       " 'whatev number of job were creat dure the obama administr more have been lost',\n",
       " 'At least old joe can passion (and rudely) lie with hi own word without totu obama is a stumbl pretend who is fool no one',\n",
       " 'updat 1 obama say debat prep go great work on be aggress * obama deliv pizza to volunt in',\n",
       " 'shame on you obama debat presidentialdeb',\n",
       " 'i dont like either one I am more social conserv but obama hasnt done enough good in hi first four year',\n",
       " 'Re hillari what is it about obama that engend thi sort of fealti He just seem like an inept civil servant to mani of us hillari',\n",
       " 'coal miner fight back against obama obamali election2012 romneyryan',\n",
       " 'obama debat that cracker ass cracker tonight I will be tune in teamobama',\n",
       " 'from electr car made in finland to solar panel made in mexico     obama is guilti of outsourc',\n",
       " 'obama romney surg narr may boost obama gotv effort',\n",
       " 'obamagovern worker and contractor have given obama 338 049',\n",
       " 'obama recov and fulli recharg',\n",
       " 'big AL say obama can raid anybodi &amp; say he got the libya terrorist',\n",
       " 'A lot of republican sayin we onli vote for obama caus he black even if he wa white we still wouldv vote for him obama2012',\n",
       " 'well i have no money obama help me lol',\n",
       " 'obama gener',\n",
       " 'obama and hi silent base',\n",
       " 'michel obama vote earli     presid obama wont be pose for ani photo in the vote booth',\n",
       " 'pre obama handl thi debat much better than the first',\n",
       " 'vote obama',\n",
       " 'still my idol Mr presid obama',\n",
       " 'michel obama say wer in the mist of a huge recoveri where',\n",
       " 'obama goe on record about child poverti Do you think hi plan goe far enough vote4kid',\n",
       " '(cdn) news muppet denounc democrat call obama a puppet ahead of the democrat organ conserv tcot',\n",
       " 'maryland for marriag equality josh levin On obama boost To state',\n",
       " 'obama better for gold bug video',\n",
       " 'Im gonna rub it in my mom face soo much when obama win',\n",
       " 'can presid obama bounc back in the poll | (via)',\n",
       " 'yay presid obama did it hand down yeah buddi',\n",
       " 'well let me be right she dont know yall lmao whi yall care if she a hoe worri about michel obama or some',\n",
       " 'heard obama use biden act coach who evid special in ly & goofi look fake aggress with angri eye',\n",
       " 'new threat to riot if obama lose elect bring it',\n",
       " 'tom morello call paul ryan a jackass  say obama suck the corpor teat | spin | newswir',\n",
       " 'presidenti race in PA could impact down ballot candid york PA presid barack obama lead lancast',\n",
       " 'obama',\n",
       " 'rush limbaugh obama campaign is done I person wont rest until we have our freedom back from obama destruct',\n",
       " 'I final found a black person who not for obama theresafirsttimeforeveryth',\n",
       " 'but obama onli care about the union not parent seek a higher grade of teacher 4 their kid that should piss u off',\n",
       " 'thi is her goal not to help ppl of MA (she not even from here) RT give obama a dem major in the senat masen',\n",
       " 'here are the chart that should get obama reelect mitt romney keep say that presid obama cant run on',\n",
       " 'while biden smirk at VP debat obama admin wa arm islam jihadist in syria ofa p2 p21 tcot',\n",
       " 'the debat dont matter the poll dont matter obama will win the elect',\n",
       " 'krauthamm obama win debat on point',\n",
       " 'honey boo boo endors barack obama for presid On jimmi kimmel live (video) via decion2012',\n",
       " '41199 AM 0140648148148148 aver visto il dibattito obama vs romney non ti rend automaticament un esperto di politica estera RT',\n",
       " 'mitt romney did it (creat job balanc budget and busi turnaround) obama not',\n",
       " 'there the obama I know and love abouttim debat']"
      ]
     },
     "execution_count": 37,
     "metadata": {},
     "output_type": "execute_result"
    }
   ],
   "source": [
    "testTrainData"
   ]
  },
  {
   "cell_type": "code",
   "execution_count": 41,
   "metadata": {},
   "outputs": [
    {
     "data": {
      "text/plain": [
       "KNeighborsClassifier(algorithm='auto', leaf_size=30, metric='minkowski',\n",
       "           metric_params=None, n_jobs=1, n_neighbors=5, p=2,\n",
       "           weights='uniform')"
      ]
     },
     "execution_count": 41,
     "metadata": {},
     "output_type": "execute_result"
    }
   ],
   "source": [
    "knn.fit(train_vectors, y_train)"
   ]
  },
  {
   "cell_type": "code",
   "execution_count": 42,
   "metadata": {
    "collapsed": true
   },
   "outputs": [],
   "source": [
    "predicted_labels = knn.predict(test_vectors)\n",
    "predicted_labelsList = predicted_labels.tolist();\n",
    "#len(predicted_labelsList)\n",
    "#len(y_test)"
   ]
  },
  {
   "cell_type": "code",
   "execution_count": 43,
   "metadata": {},
   "outputs": [
    {
     "data": {
      "text/plain": [
       "0.43246445497630331"
      ]
     },
     "execution_count": 43,
     "metadata": {},
     "output_type": "execute_result"
    }
   ],
   "source": [
    "knn.score(test_vectors, y_test)"
   ]
  },
  {
   "cell_type": "code",
   "execution_count": 20,
   "metadata": {
    "collapsed": true
   },
   "outputs": [],
   "source": [
    "target_classifiers = ['-1', '0', '1']"
   ]
  },
  {
   "cell_type": "code",
   "execution_count": 45,
   "metadata": {
    "scrolled": true
   },
   "outputs": [
    {
     "name": "stdout",
     "output_type": "stream",
     "text": [
      "             precision    recall  f1-score   support\n",
      "\n",
      "         -1       0.47      0.31      0.37       292\n",
      "          0       0.40      0.51      0.44       284\n",
      "          1       0.46      0.49      0.47       268\n",
      "\n",
      "avg / total       0.44      0.43      0.43       844\n",
      "\n"
     ]
    }
   ],
   "source": [
    "print(classification_report(y_test, predicted_labelsList, target_names=target_classifiers))"
   ]
  },
  {
   "cell_type": "code",
   "execution_count": 46,
   "metadata": {
    "collapsed": true
   },
   "outputs": [],
   "source": [
    "from sklearn.model_selection import cross_validate\n",
    "from sklearn.metrics import recall_score\n",
    "scoring = ['precision_macro', 'recall_macro']"
   ]
  },
  {
   "cell_type": "code",
   "execution_count": 47,
   "metadata": {},
   "outputs": [
    {
     "name": "stdout",
     "output_type": "stream",
     "text": [
      "[ 0.44033929  0.35292427  0.44797009  0.40469236  0.41944883  0.43061214\n",
      "  0.50728185  0.41734905  0.43064064  0.46274363]\n"
     ]
    }
   ],
   "source": [
    "cvScores = cross_val_score(knn, total_cleanTweetVectors, actualClassList, cv=10,scoring='f1_macro')\n",
    "print cvScores"
   ]
  },
  {
   "cell_type": "code",
   "execution_count": 48,
   "metadata": {},
   "outputs": [
    {
     "name": "stdout",
     "output_type": "stream",
     "text": [
      "[ 0.  0.  0. ...,  0.  1.  0.]\n"
     ]
    }
   ],
   "source": [
    "cvPredict = cross_val_predict(knn, total_cleanTweetVectors, actualClassList, cv=10)\n",
    "print (cvPredict)"
   ]
  },
  {
   "cell_type": "code",
   "execution_count": 49,
   "metadata": {},
   "outputs": [
    {
     "name": "stdout",
     "output_type": "stream",
     "text": [
      "             precision    recall  f1-score   support\n",
      "\n",
      "       -1.0       0.50      0.29      0.37      1968\n",
      "        0.0       0.42      0.51      0.46      1978\n",
      "        1.0       0.42      0.51      0.46      1679\n",
      "\n",
      "avg / total       0.45      0.44      0.43      5625\n",
      "\n"
     ]
    }
   ],
   "source": [
    "print (classification_report(actualClassList,cvPredict))"
   ]
  },
  {
   "cell_type": "markdown",
   "metadata": {},
   "source": [
    "SUPPORT VECTOR MACHINES"
   ]
  },
  {
   "cell_type": "code",
   "execution_count": 50,
   "metadata": {},
   "outputs": [
    {
     "name": "stderr",
     "output_type": "stream",
     "text": [
      "D:\\Anaconda2\\lib\\site-packages\\sklearn\\linear_model\\stochastic_gradient.py:128: FutureWarning: max_iter and tol parameters have been added in <class 'sklearn.linear_model.stochastic_gradient.SGDClassifier'> in 0.19. If both are left unset, they default to max_iter=5 and tol=None. If tol is not None, max_iter defaults to max_iter=1000. From 0.21, default max_iter will be 1000, and default tol will be 1e-3.\n",
      "  \"and default tol will be 1e-3.\" % type(self), FutureWarning)\n"
     ]
    },
    {
     "data": {
      "text/plain": [
       "SGDClassifier(alpha=0.0001, average=False, class_weight=None, epsilon=0.1,\n",
       "       eta0=0.0, fit_intercept=True, l1_ratio=0.15,\n",
       "       learning_rate='optimal', loss='hinge', max_iter=None, n_iter=None,\n",
       "       n_jobs=1, penalty='l2', power_t=0.5, random_state=None,\n",
       "       shuffle=True, tol=None, verbose=0, warm_start=False)"
      ]
     },
     "execution_count": 50,
     "metadata": {},
     "output_type": "execute_result"
    }
   ],
   "source": [
    "classifier_sgd = linear_model.SGDClassifier()\n",
    "classifier_sgd.fit(train_vectors, y_train)\n",
    "\n",
    "\n"
   ]
  },
  {
   "cell_type": "code",
   "execution_count": 51,
   "metadata": {},
   "outputs": [
    {
     "data": {
      "text/plain": [
       "0.55568720379146919"
      ]
     },
     "execution_count": 51,
     "metadata": {},
     "output_type": "execute_result"
    }
   ],
   "source": [
    "predicted_labels = classifier_sgd.predict(test_vectors)\n",
    "predicted_labelsSVMList = predicted_labels.tolist()\n",
    "\n",
    "classifier_sgd.score(test_vectors, y_test)\n"
   ]
  },
  {
   "cell_type": "code",
   "execution_count": 52,
   "metadata": {},
   "outputs": [
    {
     "name": "stdout",
     "output_type": "stream",
     "text": [
      "             precision    recall  f1-score   support\n",
      "\n",
      "         -1       0.55      0.59      0.57       292\n",
      "          0       0.53      0.54      0.54       284\n",
      "          1       0.59      0.54      0.56       268\n",
      "\n",
      "avg / total       0.56      0.56      0.56       844\n",
      "\n"
     ]
    }
   ],
   "source": [
    "print(classification_report(y_test, predicted_labelsSVMList, target_names=target_classifiers))"
   ]
  },
  {
   "cell_type": "code",
   "execution_count": 53,
   "metadata": {},
   "outputs": [
    {
     "data": {
      "text/plain": [
       "0.55720431330187425"
      ]
     },
     "execution_count": 53,
     "metadata": {},
     "output_type": "execute_result"
    }
   ],
   "source": [
    "from sklearn.metrics import precision_score\n",
    "\n",
    "precision_score(y_test, predicted_labelsSVMList, average='macro')  "
   ]
  },
  {
   "cell_type": "code",
   "execution_count": 54,
   "metadata": {},
   "outputs": [
    {
     "name": "stdout",
     "output_type": "stream",
     "text": [
      "[ 0.57371226  0.48134991  0.57726465  0.57726465  0.55772647  0.59502664\n",
      "  0.63410302  0.56660746  0.60249554  0.54285714]\n"
     ]
    }
   ],
   "source": [
    "cvScores = cross_val_score(classifier_sgd, total_cleanTweetVectors, actualClassList, cv=10)\n",
    "print (cvScores)"
   ]
  },
  {
   "cell_type": "code",
   "execution_count": 56,
   "metadata": {},
   "outputs": [
    {
     "name": "stdout",
     "output_type": "stream",
     "text": [
      "[ 0.  1. -1. ...,  0.  0.  0.]\n"
     ]
    }
   ],
   "source": [
    "cvPredict = cross_val_predict(classifier_sgd, total_cleanTweetVectors, actualClassList, cv=10)\n",
    "print (cvPredict)"
   ]
  },
  {
   "cell_type": "code",
   "execution_count": 57,
   "metadata": {},
   "outputs": [
    {
     "name": "stdout",
     "output_type": "stream",
     "text": [
      "             precision    recall  f1-score   support\n",
      "\n",
      "       -1.0       0.58      0.62      0.60      1968\n",
      "        0.0       0.53      0.52      0.53      1978\n",
      "        1.0       0.61      0.57      0.59      1679\n",
      "\n",
      "avg / total       0.57      0.57      0.57      5625\n",
      "\n"
     ]
    }
   ],
   "source": [
    "print (classification_report(actualClassList,cvPredict))"
   ]
  },
  {
   "cell_type": "code",
   "execution_count": 68,
   "metadata": {
    "collapsed": true
   },
   "outputs": [],
   "source": [
    "bdt = AdaBoostClassifier(classifier_sgd,\n",
    "                         algorithm=\"SAMME\",\n",
    "                         n_estimators=200)"
   ]
  },
  {
   "cell_type": "code",
   "execution_count": 69,
   "metadata": {},
   "outputs": [
    {
     "name": "stdout",
     "output_type": "stream",
     "text": [
      "[ 0.  1. -1. ...,  0.  0.  0.]\n"
     ]
    }
   ],
   "source": [
    "cvPredict = cross_val_predict(bdt, total_cleanTweetVectors, actualClassList, cv=10)\n",
    "print (cvPredict)"
   ]
  },
  {
   "cell_type": "code",
   "execution_count": 70,
   "metadata": {},
   "outputs": [
    {
     "name": "stdout",
     "output_type": "stream",
     "text": [
      "             precision    recall  f1-score   support\n",
      "\n",
      "       -1.0       0.55      0.54      0.54      1968\n",
      "        0.0       0.47      0.49      0.48      1978\n",
      "        1.0       0.55      0.54      0.55      1679\n",
      "\n",
      "avg / total       0.52      0.52      0.52      5625\n",
      "\n"
     ]
    }
   ],
   "source": [
    "print (classification_report(actualClassList,cvPredict))"
   ]
  },
  {
   "cell_type": "markdown",
   "metadata": {},
   "source": [
    "MULTINOMIAL NAIVE BAYES"
   ]
  },
  {
   "cell_type": "code",
   "execution_count": 21,
   "metadata": {},
   "outputs": [
    {
     "data": {
      "text/plain": [
       "MultinomialNB(alpha=1.0, class_prior=None, fit_prior=True)"
      ]
     },
     "execution_count": 21,
     "metadata": {},
     "output_type": "execute_result"
    }
   ],
   "source": [
    "multinomialNBClassifier = MultinomialNB();\n",
    "multinomialNBClassifier.fit(train_vectors, y_train)"
   ]
  },
  {
   "cell_type": "code",
   "execution_count": 22,
   "metadata": {},
   "outputs": [
    {
     "name": "stdout",
     "output_type": "stream",
     "text": [
      "             precision    recall  f1-score   support\n",
      "\n",
      "         -1       0.55      0.63      0.59       292\n",
      "          0       0.51      0.54      0.52       284\n",
      "          1       0.63      0.50      0.56       268\n",
      "\n",
      "avg / total       0.56      0.56      0.56       844\n",
      "\n"
     ]
    }
   ],
   "source": [
    "predicted_labels_NB = multinomialNBClassifier.predict(test_vectors)\n",
    "predicted_labelsListNB = predicted_labels_NB.tolist();\n",
    "\n",
    "print(classification_report(y_test, predicted_labelsListNB, target_names=target_classifiers))"
   ]
  },
  {
   "cell_type": "markdown",
   "metadata": {},
   "source": [
    "# Get Predicted list for test Data"
   ]
  },
  {
   "cell_type": "code",
   "execution_count": 11,
   "metadata": {},
   "outputs": [
    {
     "data": {
      "text/html": [
       "<div>\n",
       "<style>\n",
       "    .dataframe thead tr:only-child th {\n",
       "        text-align: right;\n",
       "    }\n",
       "\n",
       "    .dataframe thead th {\n",
       "        text-align: left;\n",
       "    }\n",
       "\n",
       "    .dataframe tbody tr th {\n",
       "        vertical-align: top;\n",
       "    }\n",
       "</style>\n",
       "<table border=\"1\" class=\"dataframe\">\n",
       "  <thead>\n",
       "    <tr style=\"text-align: right;\">\n",
       "      <th></th>\n",
       "      <th>id</th>\n",
       "      <th>Class</th>\n",
       "    </tr>\n",
       "  </thead>\n",
       "  <tbody>\n",
       "  </tbody>\n",
       "</table>\n",
       "</div>"
      ],
      "text/plain": [
       "Empty DataFrame\n",
       "Columns: [id, Class]\n",
       "Index: []"
      ]
     },
     "execution_count": 11,
     "metadata": {},
     "output_type": "execute_result"
    }
   ],
   "source": [
    "submission = pd.DataFrame(columns=['id','Class'])\n",
    "#submission.loc[0] = [1, 2, 3]\n",
    "submission"
   ]
  },
  {
   "cell_type": "code",
   "execution_count": 24,
   "metadata": {},
   "outputs": [],
   "source": [
    "i = 0\n",
    "for num in predicted_labelsListNB:\n",
    "    submission.loc[i+1] = [i+1,predicted_labelsListNB[i]]\n",
    "\n",
    "    i=i+1"
   ]
  },
  {
   "cell_type": "code",
   "execution_count": 27,
   "metadata": {},
   "outputs": [],
   "source": [
    "np.savetxt(r'C:\\Users\\swapnil sagar\\Documents\\UIC\\Data mining\\project 2\\Swapnil_Sagar_Khusbhu_Durge_Romney.txt', submission.values, fmt='%d')\n",
    "submission.head(5)"
   ]
  },
  {
   "cell_type": "code",
   "execution_count": 78,
   "metadata": {},
   "outputs": [
    {
     "name": "stdout",
     "output_type": "stream",
     "text": [
      "[ 0.57726465  0.4973357   0.61811723  0.61989343  0.56838366  0.59680284\n",
      "  0.660746    0.55772647  0.60606061  0.56071429]\n"
     ]
    }
   ],
   "source": [
    "cvScores = cross_val_score(multinomialNBClassifier, total_cleanTweetVectors, actualClassList, cv=10)\n",
    "print (cvScores)"
   ]
  },
  {
   "cell_type": "code",
   "execution_count": 28,
   "metadata": {},
   "outputs": [
    {
     "name": "stdout",
     "output_type": "stream",
     "text": [
      "[ 0.  1. -1. ...,  0.  0.  0.]\n"
     ]
    }
   ],
   "source": [
    "cvPredict = cross_val_predict(multinomialNBClassifier, total_cleanTweetVectors, actualClassList, cv=10)\n",
    "print (cvPredict)"
   ]
  },
  {
   "cell_type": "code",
   "execution_count": 29,
   "metadata": {},
   "outputs": [
    {
     "name": "stdout",
     "output_type": "stream",
     "text": [
      "             precision    recall  f1-score   support\n",
      "\n",
      "       -1.0       0.58      0.68      0.63      1968\n",
      "        0.0       0.55      0.51      0.53      1978\n",
      "        1.0       0.64      0.58      0.61      1679\n",
      "\n",
      "avg / total       0.59      0.59      0.59      5625\n",
      "\n"
     ]
    }
   ],
   "source": [
    "print (classification_report(actualClassList,cvPredict))"
   ]
  },
  {
   "cell_type": "code",
   "execution_count": 79,
   "metadata": {},
   "outputs": [
    {
     "name": "stdout",
     "output_type": "stream",
     "text": [
      "('Mean: ', 0.58630448740129038)\n"
     ]
    }
   ],
   "source": [
    "print (\"Mean: \", cvScores.mean())"
   ]
  },
  {
   "cell_type": "code",
   "execution_count": 74,
   "metadata": {
    "collapsed": true
   },
   "outputs": [],
   "source": [
    "bdt = AdaBoostClassifier(multinomialNBClassifier,\n",
    "                         algorithm=\"SAMME.R\",\n",
    "                         n_estimators=200)"
   ]
  },
  {
   "cell_type": "code",
   "execution_count": 115,
   "metadata": {},
   "outputs": [
    {
     "name": "stdout",
     "output_type": "stream",
     "text": [
      "0.542021870486\n"
     ]
    }
   ],
   "source": [
    "cvScores = cross_val_score(bdt, total_cleanTweetVectors, actualClassList, cv=10,scoring='f1_weighted')\n",
    "print (cvScores.mean())"
   ]
  },
  {
   "cell_type": "code",
   "execution_count": 75,
   "metadata": {},
   "outputs": [
    {
     "name": "stdout",
     "output_type": "stream",
     "text": [
      "[ 0.  1. -1. ...,  0.  0.  0.]\n"
     ]
    }
   ],
   "source": [
    "cvPredict = cross_val_predict(bdt, total_cleanTweetVectors, actualClassList, cv=10)\n",
    "print (cvPredict)"
   ]
  },
  {
   "cell_type": "code",
   "execution_count": 76,
   "metadata": {
    "scrolled": true
   },
   "outputs": [
    {
     "name": "stdout",
     "output_type": "stream",
     "text": [
      "             precision    recall  f1-score   support\n",
      "\n",
      "       -1.0       0.55      0.66      0.60      1968\n",
      "        0.0       0.49      0.60      0.54      1978\n",
      "        1.0       0.71      0.36      0.48      1679\n",
      "\n",
      "avg / total       0.58      0.55      0.54      5625\n",
      "\n"
     ]
    }
   ],
   "source": [
    "print (classification_report(actualClassList,cvPredict))"
   ]
  },
  {
   "cell_type": "markdown",
   "metadata": {},
   "source": [
    "Decision Tree"
   ]
  },
  {
   "cell_type": "code",
   "execution_count": 83,
   "metadata": {},
   "outputs": [
    {
     "data": {
      "text/plain": [
       "DecisionTreeClassifier(class_weight=None, criterion='gini', max_depth=None,\n",
       "            max_features=None, max_leaf_nodes=None,\n",
       "            min_impurity_decrease=0.0, min_impurity_split=None,\n",
       "            min_samples_leaf=1, min_samples_split=2,\n",
       "            min_weight_fraction_leaf=0.0, presort=False, random_state=None,\n",
       "            splitter='best')"
      ]
     },
     "execution_count": 83,
     "metadata": {},
     "output_type": "execute_result"
    }
   ],
   "source": [
    "DT = DecisionTreeClassifier();\n",
    "DT.fit(train_vectors, y_train)"
   ]
  },
  {
   "cell_type": "code",
   "execution_count": 91,
   "metadata": {},
   "outputs": [
    {
     "name": "stdout",
     "output_type": "stream",
     "text": [
      "0.502567227682\n"
     ]
    }
   ],
   "source": [
    "cvScores = cross_val_score(DT, total_cleanTweetVectors, actualClassList, cv=10)\n",
    "print (cvScores.mean())"
   ]
  },
  {
   "cell_type": "code",
   "execution_count": 89,
   "metadata": {},
   "outputs": [
    {
     "name": "stdout",
     "output_type": "stream",
     "text": [
      "[ 0.  0.  0. ...,  1.  0.  0.]\n"
     ]
    }
   ],
   "source": [
    "cvPredict = cross_val_predict(DT, total_cleanTweetVectors, actualClassList, cv=10)\n",
    "print (cvPredict)"
   ]
  },
  {
   "cell_type": "code",
   "execution_count": 90,
   "metadata": {},
   "outputs": [
    {
     "name": "stdout",
     "output_type": "stream",
     "text": [
      "             precision    recall  f1-score   support\n",
      "\n",
      "       -1.0       0.54      0.52      0.53      1968\n",
      "        0.0       0.48      0.47      0.48      1978\n",
      "        1.0       0.50      0.54      0.52      1679\n",
      "\n",
      "avg / total       0.51      0.51      0.51      5625\n",
      "\n"
     ]
    }
   ],
   "source": [
    "print (classification_report(actualClassList,cvPredict))"
   ]
  },
  {
   "cell_type": "code",
   "execution_count": 113,
   "metadata": {
    "collapsed": true
   },
   "outputs": [],
   "source": [
    "clf = RandomForestClassifier(n_estimators=10)"
   ]
  },
  {
   "cell_type": "code",
   "execution_count": 114,
   "metadata": {},
   "outputs": [
    {
     "name": "stdout",
     "output_type": "stream",
     "text": [
      "0.537824206739\n"
     ]
    }
   ],
   "source": [
    "cvScores = cross_val_score(clf, total_cleanTweetVectors, actualClassList, cv=10,scoring='f1_weighted')\n",
    "print (cvScores.mean())"
   ]
  },
  {
   "cell_type": "code",
   "execution_count": 95,
   "metadata": {},
   "outputs": [
    {
     "name": "stdout",
     "output_type": "stream",
     "text": [
      "[ 0.  0. -1. ...,  0.  0.  0.]\n"
     ]
    }
   ],
   "source": [
    "cvPredict = cross_val_predict(clf, total_cleanTweetVectors, actualClassList, cv=10)\n",
    "print (cvPredict)"
   ]
  },
  {
   "cell_type": "code",
   "execution_count": 96,
   "metadata": {},
   "outputs": [
    {
     "name": "stdout",
     "output_type": "stream",
     "text": [
      "             precision    recall  f1-score   support\n",
      "\n",
      "       -1.0       0.57      0.59      0.58      1968\n",
      "        0.0       0.51      0.51      0.51      1978\n",
      "        1.0       0.57      0.54      0.55      1679\n",
      "\n",
      "avg / total       0.55      0.55      0.55      5625\n",
      "\n"
     ]
    }
   ],
   "source": [
    "print (classification_report(actualClassList,cvPredict))"
   ]
  },
  {
   "cell_type": "code",
   "execution_count": 98,
   "metadata": {
    "collapsed": true
   },
   "outputs": [],
   "source": [
    "clf = GradientBoostingClassifier(n_estimators=100)"
   ]
  },
  {
   "cell_type": "code",
   "execution_count": 109,
   "metadata": {},
   "outputs": [
    {
     "name": "stdout",
     "output_type": "stream",
     "text": [
      "0.540905126596\n"
     ]
    }
   ],
   "source": [
    "cvScores = cross_val_score(clf, total_cleanTweetVectors, actualClassList, cv=10,scoring='f1_weighted')\n",
    "print (cvScores.mean())"
   ]
  },
  {
   "cell_type": "code",
   "execution_count": 99,
   "metadata": {},
   "outputs": [
    {
     "name": "stdout",
     "output_type": "stream",
     "text": [
      "[ 0.  1.  0. ...,  0.  0.  0.]\n"
     ]
    }
   ],
   "source": [
    "cvPredict = cross_val_predict(clf, total_cleanTweetVectors, actualClassList, cv=10)\n",
    "print (cvPredict)"
   ]
  },
  {
   "cell_type": "code",
   "execution_count": 100,
   "metadata": {},
   "outputs": [
    {
     "name": "stdout",
     "output_type": "stream",
     "text": [
      "             precision    recall  f1-score   support\n",
      "\n",
      "       -1.0       0.57      0.54      0.55      1968\n",
      "        0.0       0.47      0.62      0.54      1978\n",
      "        1.0       0.64      0.46      0.53      1679\n",
      "\n",
      "avg / total       0.56      0.54      0.54      5625\n",
      "\n"
     ]
    }
   ],
   "source": [
    "print (classification_report(actualClassList,cvPredict))"
   ]
  },
  {
   "cell_type": "code",
   "execution_count": 111,
   "metadata": {
    "collapsed": true
   },
   "outputs": [],
   "source": [
    "clf1 = LogisticRegression(random_state=1)"
   ]
  },
  {
   "cell_type": "code",
   "execution_count": 108,
   "metadata": {},
   "outputs": [
    {
     "name": "stdout",
     "output_type": "stream",
     "text": [
      "0.583391483721\n"
     ]
    }
   ],
   "source": [
    "cvScores = cross_val_score(clf1, total_cleanTweetVectors, actualClassList, cv=10,scoring='f1_weighted')\n",
    "print (cvScores.mean())"
   ]
  },
  {
   "cell_type": "code",
   "execution_count": 105,
   "metadata": {},
   "outputs": [
    {
     "name": "stdout",
     "output_type": "stream",
     "text": [
      "[ 0.  1. -1. ...,  0.  0.  0.]\n"
     ]
    }
   ],
   "source": [
    "cvPredict = cross_val_predict(clf1, total_cleanTweetVectors, actualClassList, cv=10)\n",
    "print (cvPredict)"
   ]
  },
  {
   "cell_type": "code",
   "execution_count": 106,
   "metadata": {},
   "outputs": [
    {
     "name": "stdout",
     "output_type": "stream",
     "text": [
      "             precision    recall  f1-score   support\n",
      "\n",
      "       -1.0       0.59      0.64      0.62      1968\n",
      "        0.0       0.54      0.55      0.54      1978\n",
      "        1.0       0.64      0.55      0.60      1679\n",
      "\n",
      "avg / total       0.59      0.58      0.58      5625\n",
      "\n"
     ]
    }
   ],
   "source": [
    "print (classification_report(actualClassList,cvPredict))"
   ]
  }
 ],
 "metadata": {
  "kernelspec": {
   "display_name": "Python 2",
   "language": "python",
   "name": "python2"
  },
  "language_info": {
   "codemirror_mode": {
    "name": "ipython",
    "version": 2
   },
   "file_extension": ".py",
   "mimetype": "text/x-python",
   "name": "python",
   "nbconvert_exporter": "python",
   "pygments_lexer": "ipython2",
   "version": "2.7.14"
  }
 },
 "nbformat": 4,
 "nbformat_minor": 2
}
